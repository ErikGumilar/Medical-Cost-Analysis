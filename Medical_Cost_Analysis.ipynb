{
  "nbformat": 4,
  "nbformat_minor": 0,
  "metadata": {
    "colab": {
      "name": "Medical Cost Analysis.ipynb",
      "provenance": [],
      "collapsed_sections": [],
      "toc_visible": true,
      "authorship_tag": "ABX9TyMxArc7rPcGkHwMz9+uWVES",
      "include_colab_link": true
    },
    "kernelspec": {
      "name": "python3",
      "display_name": "Python 3"
    },
    "language_info": {
      "name": "python"
    }
  },
  "cells": [
    {
      "cell_type": "markdown",
      "metadata": {
        "id": "view-in-github",
        "colab_type": "text"
      },
      "source": [
        "<a href=\"https://colab.research.google.com/github/ErikGumilar/Medical-Cost-Analysis/blob/main/Medical_Cost_Analysis.ipynb\" target=\"_parent\"><img src=\"https://colab.research.google.com/assets/colab-badge.svg\" alt=\"Open In Colab\"/></a>"
      ]
    },
    {
      "cell_type": "markdown",
      "source": [
        "![](https://theonebrief.com/wp-content/uploads/2017/03/aon_medical_costs_article_header_V3.jpg)\n",
        "\n",
        "# **Medical Cost and Relation of Phenomenon on Indonesia**\n",
        "\n",
        "**Hi, There!!**\n",
        "\n",
        "As a Indonesia citizen I clearly remember of the news from Sri Mulyani as a Minister of Finance.\n",
        "\n",
        "She said in last december of 2021 on [Finansial](https://finansial.bisnis.com/read/20211213/215/1477267/sri-mulyani-konsumsi-rokok-bebani-bpjs-kesehatan-hingga-rp156-triliun), \"Cigarette consumption burden BPJS Kesehatan (Social Health Insurance Administration Body) to reach 15.6 trillion rupiah.\"\n",
        "\n",
        "![](https://images.bisnis-cdn.com/posts/2021/12/13/1477267/cukai-rokok_190821.jpg)\n",
        "\n",
        "\"This means that 20 to 30 percent of the PBI subsidy [PBI stand for Penerima Bantuan Iuran] JKN, Rp. 48.8 trillion is to pay for treatment due to the effects of smoking,\" Sri Mulyani continued at a press conference on the 2022 Tobacco Excise Policy.\n",
        "\n",
        "The statement made by Sri Mulyani was confirmed by the BPJS Kesehatan Supervisory Board. According to Achmad Yurianto in [merdeka.com](https://www.merdeka.com/khas/dewas-bpjs-kesehatan-di-negara-maju-pasien-penyakit-akibat-rokok-dibebani-biaya-wawancara-khusus.html), \"Health costs due to smoking reach Rp. 17.9 trillion to Rp. 27.7 trillion a year. BPJS Kesehatan must bear Rp. 10.5-15.6 trillion of the total health costs of diseases caused by smoking.\"\n",
        "\n",
        "\n",
        "This statement has existed in 2017 to 2020, where the Ministry of Health as a pioneer in the passage of BPJS Kesehatan contributions stated that patients with a history of smoking cause excessive burdens on BPJS Kesehatan expenditures."
      ],
      "metadata": {
        "id": "AevL42aMoPBD"
      }
    },
    {
      "cell_type": "markdown",
      "source": [
        "**Academic Review of Disease Cost due Cigarette**\n",
        "\n",
        "[Kadek Ida Krisnadewi](https://journal.ugm.ac.id/majalahfarmaseutik/article/view/49615) once conducted a research entitled \"Estimasi Nilai Years of Life Lost (YLL) Penyakit Kanker Akibat Secondhand Smoke di Indonesia\" [in English: Years of Life Lost (YLL) Estimation of Cancer Due to Secondhand Smoke in Indonesia], where Kadek found that the estimated value of years of life lost (YLL) for 6 cancers caused by passive smoking taken per gender group was found to be the largest death in lung cancer (19,823 person years), followed by colon cancer (19,007 person years), cancer pancreas (14,155 person years), stomach cancer (3,372 person years), bladder cancer (3,251 person years) and laryngeal cancer (1,242 person years).\n",
        "\n",
        "\n",
        "![](https://ars.els-cdn.com/content/image/1-s2.0-S0344033820X00094-cov150h.gif)\n",
        "\n",
        "[Yuping Zhang in Pathology - Research and Practice](https://www.sciencedirect.com/science/article/abs/pii/S0344033820307470) conducted a research article entitled \"The roles of endothelin and its receptors in cigarette smoke-associated pulmonary hypertension with chronic lung disease\", found that the pathogenesis of smoke-associated PH group III in chronic obstructive pulmonary disease (COPD) involves cigarette smoke exposure-induced damage to lung tissue and dysfunction of pulmonary system with increased synthesis and release of endothelin-1 (ET-1), hypoxia, inflammation, pulmonary vascular remodeling."
      ],
      "metadata": {
        "id": "8cgmap-Y3wWz"
      }
    },
    {
      "cell_type": "markdown",
      "source": [
        "![](https://www.seekpng.com/png/full/148-1489515_question-meme.png)\n",
        "\n",
        "# **Business Problems**\n",
        "\n",
        "The phenomenon that occurred in Indonesia made the stakeholders of ABC, Inc. ask for opinions about the anticipation that can be done to prevent the occurrence of insurance claims that swell. According to the stakeholders, the occurrence of a deficit in the BPJS Kesehatan budget run by the government has occurred since the first year BPJS Kesehatan was launched, in 2014.\n",
        "\n",
        "According to ABC, inc. advisers, the deficit that occurred in the BPJS Kesehatan budget because the cash inflows and outflows did not match the predictions was made previously. With input from the company's Advisor, President Director of ABC, inc. asked the Business Intelligence division to analyze the phenomena that occurred and also try to predict the occurrence of insurance claims in the future.\n",
        "\n",
        "Formulation of the problem:\n",
        "1. Is it true that there is a phenomenon of swelling BPJS claims due to the increasing number of people who are sick from active smoking?\n",
        "2. Will active smoking continue to be the main cause of swelling in health claims in the future?\n",
        "3. How to deal with swelling that occurs in ABC, Inc.?\n",
        "\n",
        "\n"
      ],
      "metadata": {
        "id": "YLY4yYC2zJ4B"
      }
    },
    {
      "cell_type": "markdown",
      "source": [
        "## **Load Library and Dataset**"
      ],
      "metadata": {
        "id": "sg-zAB9B4yZ3"
      }
    },
    {
      "cell_type": "code",
      "execution_count": 85,
      "metadata": {
        "id": "VbjLqet92wE9"
      },
      "outputs": [],
      "source": [
        "# Using pandas and numpy as basic Exploratory Data Analysis\n",
        "import pandas as pd\n",
        "import numpy as np\n",
        "import matplotlib.pyplot as plt\n",
        "import seaborn as sns\n",
        "import plotly.graph_objs as go\n",
        "import plotly.offline as py\n",
        "from scipy.stats import zscore\n",
        "\n",
        "# Using Several Regression Models to know the Cost of several factor\n",
        "from sklearn import preprocessing\n",
        "from sklearn.linear_model import LogisticRegression\n",
        "from sklearn.preprocessing import StandardScaler\n",
        "from sklearn.model_selection import RandomizedSearchCV, train_test_split\n",
        "from sklearn.ensemble import GradientBoostingRegressor\n",
        "from xgboost import XGBRegressor\n",
        "from sklearn.linear_model import LinearRegression, BayesianRidge\n",
        "from sklearn.tree import DecisionTreeRegressor\n",
        "from sklearn.ensemble import RandomForestRegressor\n",
        "from sklearn.preprocessing import PolynomialFeatures\n",
        "from sklearn import metrics\n",
        "from sklearn.metrics import r2_score\n",
        "from sklearn.model_selection import cross_val_score\n",
        "%matplotlib inline\n",
        "\n",
        "import warnings\n",
        "warnings.filterwarnings(\"ignore\")"
      ]
    },
    {
      "cell_type": "code",
      "source": [
        "# Import dataset\n",
        "from google.colab import files\n",
        "uploaded = files.upload()\n",
        "data = pd.read_csv('insurance.csv')\n",
        "data.head(10) "
      ],
      "metadata": {
        "colab": {
          "resources": {
            "http://localhost:8080/nbextensions/google.colab/files.js": {
              "data": "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",
              "ok": true,
              "headers": [
                [
                  "content-type",
                  "application/javascript"
                ]
              ],
              "status": 200,
              "status_text": ""
            }
          },
          "base_uri": "https://localhost:8080/",
          "height": 419
        },
        "id": "51XDHzq_48wL",
        "outputId": "ee9a48e7-2df9-49c9-801c-0c9f654e3720"
      },
      "execution_count": 86,
      "outputs": [
        {
          "output_type": "display_data",
          "data": {
            "text/plain": [
              "<IPython.core.display.HTML object>"
            ],
            "text/html": [
              "\n",
              "     <input type=\"file\" id=\"files-49a12f9b-abc9-4671-b963-3d7ee4a30df7\" name=\"files[]\" multiple disabled\n",
              "        style=\"border:none\" />\n",
              "     <output id=\"result-49a12f9b-abc9-4671-b963-3d7ee4a30df7\">\n",
              "      Upload widget is only available when the cell has been executed in the\n",
              "      current browser session. Please rerun this cell to enable.\n",
              "      </output>\n",
              "      <script src=\"/nbextensions/google.colab/files.js\"></script> "
            ]
          },
          "metadata": {}
        },
        {
          "output_type": "stream",
          "name": "stdout",
          "text": [
            "Saving insurance.csv to insurance (1).csv\n"
          ]
        },
        {
          "output_type": "execute_result",
          "data": {
            "text/plain": [
              "   age     sex     bmi  children smoker     region      charges\n",
              "0   19  female  27.900         0    yes  southwest  16884.92400\n",
              "1   18    male  33.770         1     no  southeast   1725.55230\n",
              "2   28    male  33.000         3     no  southeast   4449.46200\n",
              "3   33    male  22.705         0     no  northwest  21984.47061\n",
              "4   32    male  28.880         0     no  northwest   3866.85520\n",
              "5   31  female  25.740         0     no  southeast   3756.62160\n",
              "6   46  female  33.440         1     no  southeast   8240.58960\n",
              "7   37  female  27.740         3     no  northwest   7281.50560\n",
              "8   37    male  29.830         2     no  northeast   6406.41070\n",
              "9   60  female  25.840         0     no  northwest  28923.13692"
            ],
            "text/html": [
              "\n",
              "  <div id=\"df-08558bdb-2fd9-48dd-bb7a-f77fa75091f8\">\n",
              "    <div class=\"colab-df-container\">\n",
              "      <div>\n",
              "<style scoped>\n",
              "    .dataframe tbody tr th:only-of-type {\n",
              "        vertical-align: middle;\n",
              "    }\n",
              "\n",
              "    .dataframe tbody tr th {\n",
              "        vertical-align: top;\n",
              "    }\n",
              "\n",
              "    .dataframe thead th {\n",
              "        text-align: right;\n",
              "    }\n",
              "</style>\n",
              "<table border=\"1\" class=\"dataframe\">\n",
              "  <thead>\n",
              "    <tr style=\"text-align: right;\">\n",
              "      <th></th>\n",
              "      <th>age</th>\n",
              "      <th>sex</th>\n",
              "      <th>bmi</th>\n",
              "      <th>children</th>\n",
              "      <th>smoker</th>\n",
              "      <th>region</th>\n",
              "      <th>charges</th>\n",
              "    </tr>\n",
              "  </thead>\n",
              "  <tbody>\n",
              "    <tr>\n",
              "      <th>0</th>\n",
              "      <td>19</td>\n",
              "      <td>female</td>\n",
              "      <td>27.900</td>\n",
              "      <td>0</td>\n",
              "      <td>yes</td>\n",
              "      <td>southwest</td>\n",
              "      <td>16884.92400</td>\n",
              "    </tr>\n",
              "    <tr>\n",
              "      <th>1</th>\n",
              "      <td>18</td>\n",
              "      <td>male</td>\n",
              "      <td>33.770</td>\n",
              "      <td>1</td>\n",
              "      <td>no</td>\n",
              "      <td>southeast</td>\n",
              "      <td>1725.55230</td>\n",
              "    </tr>\n",
              "    <tr>\n",
              "      <th>2</th>\n",
              "      <td>28</td>\n",
              "      <td>male</td>\n",
              "      <td>33.000</td>\n",
              "      <td>3</td>\n",
              "      <td>no</td>\n",
              "      <td>southeast</td>\n",
              "      <td>4449.46200</td>\n",
              "    </tr>\n",
              "    <tr>\n",
              "      <th>3</th>\n",
              "      <td>33</td>\n",
              "      <td>male</td>\n",
              "      <td>22.705</td>\n",
              "      <td>0</td>\n",
              "      <td>no</td>\n",
              "      <td>northwest</td>\n",
              "      <td>21984.47061</td>\n",
              "    </tr>\n",
              "    <tr>\n",
              "      <th>4</th>\n",
              "      <td>32</td>\n",
              "      <td>male</td>\n",
              "      <td>28.880</td>\n",
              "      <td>0</td>\n",
              "      <td>no</td>\n",
              "      <td>northwest</td>\n",
              "      <td>3866.85520</td>\n",
              "    </tr>\n",
              "    <tr>\n",
              "      <th>5</th>\n",
              "      <td>31</td>\n",
              "      <td>female</td>\n",
              "      <td>25.740</td>\n",
              "      <td>0</td>\n",
              "      <td>no</td>\n",
              "      <td>southeast</td>\n",
              "      <td>3756.62160</td>\n",
              "    </tr>\n",
              "    <tr>\n",
              "      <th>6</th>\n",
              "      <td>46</td>\n",
              "      <td>female</td>\n",
              "      <td>33.440</td>\n",
              "      <td>1</td>\n",
              "      <td>no</td>\n",
              "      <td>southeast</td>\n",
              "      <td>8240.58960</td>\n",
              "    </tr>\n",
              "    <tr>\n",
              "      <th>7</th>\n",
              "      <td>37</td>\n",
              "      <td>female</td>\n",
              "      <td>27.740</td>\n",
              "      <td>3</td>\n",
              "      <td>no</td>\n",
              "      <td>northwest</td>\n",
              "      <td>7281.50560</td>\n",
              "    </tr>\n",
              "    <tr>\n",
              "      <th>8</th>\n",
              "      <td>37</td>\n",
              "      <td>male</td>\n",
              "      <td>29.830</td>\n",
              "      <td>2</td>\n",
              "      <td>no</td>\n",
              "      <td>northeast</td>\n",
              "      <td>6406.41070</td>\n",
              "    </tr>\n",
              "    <tr>\n",
              "      <th>9</th>\n",
              "      <td>60</td>\n",
              "      <td>female</td>\n",
              "      <td>25.840</td>\n",
              "      <td>0</td>\n",
              "      <td>no</td>\n",
              "      <td>northwest</td>\n",
              "      <td>28923.13692</td>\n",
              "    </tr>\n",
              "  </tbody>\n",
              "</table>\n",
              "</div>\n",
              "      <button class=\"colab-df-convert\" onclick=\"convertToInteractive('df-08558bdb-2fd9-48dd-bb7a-f77fa75091f8')\"\n",
              "              title=\"Convert this dataframe to an interactive table.\"\n",
              "              style=\"display:none;\">\n",
              "        \n",
              "  <svg xmlns=\"http://www.w3.org/2000/svg\" height=\"24px\"viewBox=\"0 0 24 24\"\n",
              "       width=\"24px\">\n",
              "    <path d=\"M0 0h24v24H0V0z\" fill=\"none\"/>\n",
              "    <path d=\"M18.56 5.44l.94 2.06.94-2.06 2.06-.94-2.06-.94-.94-2.06-.94 2.06-2.06.94zm-11 1L8.5 8.5l.94-2.06 2.06-.94-2.06-.94L8.5 2.5l-.94 2.06-2.06.94zm10 10l.94 2.06.94-2.06 2.06-.94-2.06-.94-.94-2.06-.94 2.06-2.06.94z\"/><path d=\"M17.41 7.96l-1.37-1.37c-.4-.4-.92-.59-1.43-.59-.52 0-1.04.2-1.43.59L10.3 9.45l-7.72 7.72c-.78.78-.78 2.05 0 2.83L4 21.41c.39.39.9.59 1.41.59.51 0 1.02-.2 1.41-.59l7.78-7.78 2.81-2.81c.8-.78.8-2.07 0-2.86zM5.41 20L4 18.59l7.72-7.72 1.47 1.35L5.41 20z\"/>\n",
              "  </svg>\n",
              "      </button>\n",
              "      \n",
              "  <style>\n",
              "    .colab-df-container {\n",
              "      display:flex;\n",
              "      flex-wrap:wrap;\n",
              "      gap: 12px;\n",
              "    }\n",
              "\n",
              "    .colab-df-convert {\n",
              "      background-color: #E8F0FE;\n",
              "      border: none;\n",
              "      border-radius: 50%;\n",
              "      cursor: pointer;\n",
              "      display: none;\n",
              "      fill: #1967D2;\n",
              "      height: 32px;\n",
              "      padding: 0 0 0 0;\n",
              "      width: 32px;\n",
              "    }\n",
              "\n",
              "    .colab-df-convert:hover {\n",
              "      background-color: #E2EBFA;\n",
              "      box-shadow: 0px 1px 2px rgba(60, 64, 67, 0.3), 0px 1px 3px 1px rgba(60, 64, 67, 0.15);\n",
              "      fill: #174EA6;\n",
              "    }\n",
              "\n",
              "    [theme=dark] .colab-df-convert {\n",
              "      background-color: #3B4455;\n",
              "      fill: #D2E3FC;\n",
              "    }\n",
              "\n",
              "    [theme=dark] .colab-df-convert:hover {\n",
              "      background-color: #434B5C;\n",
              "      box-shadow: 0px 1px 3px 1px rgba(0, 0, 0, 0.15);\n",
              "      filter: drop-shadow(0px 1px 2px rgba(0, 0, 0, 0.3));\n",
              "      fill: #FFFFFF;\n",
              "    }\n",
              "  </style>\n",
              "\n",
              "      <script>\n",
              "        const buttonEl =\n",
              "          document.querySelector('#df-08558bdb-2fd9-48dd-bb7a-f77fa75091f8 button.colab-df-convert');\n",
              "        buttonEl.style.display =\n",
              "          google.colab.kernel.accessAllowed ? 'block' : 'none';\n",
              "\n",
              "        async function convertToInteractive(key) {\n",
              "          const element = document.querySelector('#df-08558bdb-2fd9-48dd-bb7a-f77fa75091f8');\n",
              "          const dataTable =\n",
              "            await google.colab.kernel.invokeFunction('convertToInteractive',\n",
              "                                                     [key], {});\n",
              "          if (!dataTable) return;\n",
              "\n",
              "          const docLinkHtml = 'Like what you see? Visit the ' +\n",
              "            '<a target=\"_blank\" href=https://colab.research.google.com/notebooks/data_table.ipynb>data table notebook</a>'\n",
              "            + ' to learn more about interactive tables.';\n",
              "          element.innerHTML = '';\n",
              "          dataTable['output_type'] = 'display_data';\n",
              "          await google.colab.output.renderOutput(dataTable, element);\n",
              "          const docLink = document.createElement('div');\n",
              "          docLink.innerHTML = docLinkHtml;\n",
              "          element.appendChild(docLink);\n",
              "        }\n",
              "      </script>\n",
              "    </div>\n",
              "  </div>\n",
              "  "
            ]
          },
          "metadata": {},
          "execution_count": 86
        }
      ]
    },
    {
      "cell_type": "markdown",
      "source": [
        "***Dataset Description***\n",
        "\n",
        "\n",
        "1.   age: age of primary beneficiary\n",
        "2.   sex: insurance contractor gender, female, male\n",
        "3.   bmi: Body mass index, providing an understanding of body, weights that are relatively high or low relative to height, objective index of body weight (kg / m ^ 2) using the ratio of height to weight, ideally 18.5 to 24.9\n",
        "4.   children: Number of children covered by health insurance / Number of dependents\n",
        "5.   smoker: Smoking\n",
        "6.   region: the beneficiary's residential area in the US, northeast, southeast, southwest, northwest.\n",
        "7.   charges: Individual medical costs billed by health insurance"
      ],
      "metadata": {
        "id": "bbJGP7s60BoA"
      }
    },
    {
      "cell_type": "markdown",
      "source": [
        "## **Data Understanding & Preparation**"
      ],
      "metadata": {
        "id": "2jl7Bf7M57y3"
      }
    },
    {
      "cell_type": "code",
      "source": [
        "# See size of Dataset\n",
        "data.shape"
      ],
      "metadata": {
        "colab": {
          "base_uri": "https://localhost:8080/"
        },
        "id": "nHgIL0Eq5mib",
        "outputId": "9b1283af-b825-4c28-c771-9f583939a02d"
      },
      "execution_count": 3,
      "outputs": [
        {
          "output_type": "execute_result",
          "data": {
            "text/plain": [
              "(1338, 7)"
            ]
          },
          "metadata": {},
          "execution_count": 3
        }
      ]
    },
    {
      "cell_type": "code",
      "source": [
        "print(\"There is\", data.shape[0], \"observation and\", data.shape[1], \"columns in this dataset\")"
      ],
      "metadata": {
        "colab": {
          "base_uri": "https://localhost:8080/"
        },
        "id": "VwlVJRhcjobz",
        "outputId": "eceaf3df-89b9-49e0-c5b5-61ac43469444"
      },
      "execution_count": 4,
      "outputs": [
        {
          "output_type": "stream",
          "name": "stdout",
          "text": [
            "There is 1338 observation and 7 columns in this dataset\n"
          ]
        }
      ]
    },
    {
      "cell_type": "code",
      "source": [
        "# Data types Information\n",
        "data.info()"
      ],
      "metadata": {
        "colab": {
          "base_uri": "https://localhost:8080/"
        },
        "id": "DQ6B7G2P6HWM",
        "outputId": "8a57f516-b0e4-49d4-81bd-27af44dfebcb"
      },
      "execution_count": 5,
      "outputs": [
        {
          "output_type": "stream",
          "name": "stdout",
          "text": [
            "<class 'pandas.core.frame.DataFrame'>\n",
            "RangeIndex: 1338 entries, 0 to 1337\n",
            "Data columns (total 7 columns):\n",
            " #   Column    Non-Null Count  Dtype  \n",
            "---  ------    --------------  -----  \n",
            " 0   age       1338 non-null   int64  \n",
            " 1   sex       1338 non-null   object \n",
            " 2   bmi       1338 non-null   float64\n",
            " 3   children  1338 non-null   int64  \n",
            " 4   smoker    1338 non-null   object \n",
            " 5   region    1338 non-null   object \n",
            " 6   charges   1338 non-null   float64\n",
            "dtypes: float64(2), int64(2), object(3)\n",
            "memory usage: 73.3+ KB\n"
          ]
        }
      ]
    },
    {
      "cell_type": "code",
      "source": [
        "# Statistical Summary\n",
        "data.describe()"
      ],
      "metadata": {
        "colab": {
          "base_uri": "https://localhost:8080/",
          "height": 300
        },
        "id": "HwY34LRO7_2N",
        "outputId": "8126460f-0f44-49ca-9d7d-a044e44110ee"
      },
      "execution_count": 6,
      "outputs": [
        {
          "output_type": "execute_result",
          "data": {
            "text/plain": [
              "               age          bmi     children       charges\n",
              "count  1338.000000  1338.000000  1338.000000   1338.000000\n",
              "mean     39.207025    30.663397     1.094918  13270.422265\n",
              "std      14.049960     6.098187     1.205493  12110.011237\n",
              "min      18.000000    15.960000     0.000000   1121.873900\n",
              "25%      27.000000    26.296250     0.000000   4740.287150\n",
              "50%      39.000000    30.400000     1.000000   9382.033000\n",
              "75%      51.000000    34.693750     2.000000  16639.912515\n",
              "max      64.000000    53.130000     5.000000  63770.428010"
            ],
            "text/html": [
              "\n",
              "  <div id=\"df-e3b1ac09-f2fa-4730-9db6-29ad61f8753d\">\n",
              "    <div class=\"colab-df-container\">\n",
              "      <div>\n",
              "<style scoped>\n",
              "    .dataframe tbody tr th:only-of-type {\n",
              "        vertical-align: middle;\n",
              "    }\n",
              "\n",
              "    .dataframe tbody tr th {\n",
              "        vertical-align: top;\n",
              "    }\n",
              "\n",
              "    .dataframe thead th {\n",
              "        text-align: right;\n",
              "    }\n",
              "</style>\n",
              "<table border=\"1\" class=\"dataframe\">\n",
              "  <thead>\n",
              "    <tr style=\"text-align: right;\">\n",
              "      <th></th>\n",
              "      <th>age</th>\n",
              "      <th>bmi</th>\n",
              "      <th>children</th>\n",
              "      <th>charges</th>\n",
              "    </tr>\n",
              "  </thead>\n",
              "  <tbody>\n",
              "    <tr>\n",
              "      <th>count</th>\n",
              "      <td>1338.000000</td>\n",
              "      <td>1338.000000</td>\n",
              "      <td>1338.000000</td>\n",
              "      <td>1338.000000</td>\n",
              "    </tr>\n",
              "    <tr>\n",
              "      <th>mean</th>\n",
              "      <td>39.207025</td>\n",
              "      <td>30.663397</td>\n",
              "      <td>1.094918</td>\n",
              "      <td>13270.422265</td>\n",
              "    </tr>\n",
              "    <tr>\n",
              "      <th>std</th>\n",
              "      <td>14.049960</td>\n",
              "      <td>6.098187</td>\n",
              "      <td>1.205493</td>\n",
              "      <td>12110.011237</td>\n",
              "    </tr>\n",
              "    <tr>\n",
              "      <th>min</th>\n",
              "      <td>18.000000</td>\n",
              "      <td>15.960000</td>\n",
              "      <td>0.000000</td>\n",
              "      <td>1121.873900</td>\n",
              "    </tr>\n",
              "    <tr>\n",
              "      <th>25%</th>\n",
              "      <td>27.000000</td>\n",
              "      <td>26.296250</td>\n",
              "      <td>0.000000</td>\n",
              "      <td>4740.287150</td>\n",
              "    </tr>\n",
              "    <tr>\n",
              "      <th>50%</th>\n",
              "      <td>39.000000</td>\n",
              "      <td>30.400000</td>\n",
              "      <td>1.000000</td>\n",
              "      <td>9382.033000</td>\n",
              "    </tr>\n",
              "    <tr>\n",
              "      <th>75%</th>\n",
              "      <td>51.000000</td>\n",
              "      <td>34.693750</td>\n",
              "      <td>2.000000</td>\n",
              "      <td>16639.912515</td>\n",
              "    </tr>\n",
              "    <tr>\n",
              "      <th>max</th>\n",
              "      <td>64.000000</td>\n",
              "      <td>53.130000</td>\n",
              "      <td>5.000000</td>\n",
              "      <td>63770.428010</td>\n",
              "    </tr>\n",
              "  </tbody>\n",
              "</table>\n",
              "</div>\n",
              "      <button class=\"colab-df-convert\" onclick=\"convertToInteractive('df-e3b1ac09-f2fa-4730-9db6-29ad61f8753d')\"\n",
              "              title=\"Convert this dataframe to an interactive table.\"\n",
              "              style=\"display:none;\">\n",
              "        \n",
              "  <svg xmlns=\"http://www.w3.org/2000/svg\" height=\"24px\"viewBox=\"0 0 24 24\"\n",
              "       width=\"24px\">\n",
              "    <path d=\"M0 0h24v24H0V0z\" fill=\"none\"/>\n",
              "    <path d=\"M18.56 5.44l.94 2.06.94-2.06 2.06-.94-2.06-.94-.94-2.06-.94 2.06-2.06.94zm-11 1L8.5 8.5l.94-2.06 2.06-.94-2.06-.94L8.5 2.5l-.94 2.06-2.06.94zm10 10l.94 2.06.94-2.06 2.06-.94-2.06-.94-.94-2.06-.94 2.06-2.06.94z\"/><path d=\"M17.41 7.96l-1.37-1.37c-.4-.4-.92-.59-1.43-.59-.52 0-1.04.2-1.43.59L10.3 9.45l-7.72 7.72c-.78.78-.78 2.05 0 2.83L4 21.41c.39.39.9.59 1.41.59.51 0 1.02-.2 1.41-.59l7.78-7.78 2.81-2.81c.8-.78.8-2.07 0-2.86zM5.41 20L4 18.59l7.72-7.72 1.47 1.35L5.41 20z\"/>\n",
              "  </svg>\n",
              "      </button>\n",
              "      \n",
              "  <style>\n",
              "    .colab-df-container {\n",
              "      display:flex;\n",
              "      flex-wrap:wrap;\n",
              "      gap: 12px;\n",
              "    }\n",
              "\n",
              "    .colab-df-convert {\n",
              "      background-color: #E8F0FE;\n",
              "      border: none;\n",
              "      border-radius: 50%;\n",
              "      cursor: pointer;\n",
              "      display: none;\n",
              "      fill: #1967D2;\n",
              "      height: 32px;\n",
              "      padding: 0 0 0 0;\n",
              "      width: 32px;\n",
              "    }\n",
              "\n",
              "    .colab-df-convert:hover {\n",
              "      background-color: #E2EBFA;\n",
              "      box-shadow: 0px 1px 2px rgba(60, 64, 67, 0.3), 0px 1px 3px 1px rgba(60, 64, 67, 0.15);\n",
              "      fill: #174EA6;\n",
              "    }\n",
              "\n",
              "    [theme=dark] .colab-df-convert {\n",
              "      background-color: #3B4455;\n",
              "      fill: #D2E3FC;\n",
              "    }\n",
              "\n",
              "    [theme=dark] .colab-df-convert:hover {\n",
              "      background-color: #434B5C;\n",
              "      box-shadow: 0px 1px 3px 1px rgba(0, 0, 0, 0.15);\n",
              "      filter: drop-shadow(0px 1px 2px rgba(0, 0, 0, 0.3));\n",
              "      fill: #FFFFFF;\n",
              "    }\n",
              "  </style>\n",
              "\n",
              "      <script>\n",
              "        const buttonEl =\n",
              "          document.querySelector('#df-e3b1ac09-f2fa-4730-9db6-29ad61f8753d button.colab-df-convert');\n",
              "        buttonEl.style.display =\n",
              "          google.colab.kernel.accessAllowed ? 'block' : 'none';\n",
              "\n",
              "        async function convertToInteractive(key) {\n",
              "          const element = document.querySelector('#df-e3b1ac09-f2fa-4730-9db6-29ad61f8753d');\n",
              "          const dataTable =\n",
              "            await google.colab.kernel.invokeFunction('convertToInteractive',\n",
              "                                                     [key], {});\n",
              "          if (!dataTable) return;\n",
              "\n",
              "          const docLinkHtml = 'Like what you see? Visit the ' +\n",
              "            '<a target=\"_blank\" href=https://colab.research.google.com/notebooks/data_table.ipynb>data table notebook</a>'\n",
              "            + ' to learn more about interactive tables.';\n",
              "          element.innerHTML = '';\n",
              "          dataTable['output_type'] = 'display_data';\n",
              "          await google.colab.output.renderOutput(dataTable, element);\n",
              "          const docLink = document.createElement('div');\n",
              "          docLink.innerHTML = docLinkHtml;\n",
              "          element.appendChild(docLink);\n",
              "        }\n",
              "      </script>\n",
              "    </div>\n",
              "  </div>\n",
              "  "
            ]
          },
          "metadata": {},
          "execution_count": 6
        }
      ]
    },
    {
      "cell_type": "code",
      "source": [
        "numerical= data.select_dtypes('number').columns\n",
        "\n",
        "categorical = data.select_dtypes('object').columns\n",
        "\n",
        "print(f'Numerical Columns:  {data[numerical].columns}')\n",
        "print('\\n')\n",
        "print(f'Categorical Columns: {data[categorical].columns}')"
      ],
      "metadata": {
        "colab": {
          "base_uri": "https://localhost:8080/"
        },
        "id": "lCoUQ895sh-7",
        "outputId": "4b999071-5902-4c07-b1a9-055581e7181a"
      },
      "execution_count": 7,
      "outputs": [
        {
          "output_type": "stream",
          "name": "stdout",
          "text": [
            "Numerical Columns:  Index(['age', 'bmi', 'children', 'charges'], dtype='object')\n",
            "\n",
            "\n",
            "Categorical Columns: Index(['sex', 'smoker', 'region'], dtype='object')\n"
          ]
        }
      ]
    },
    {
      "cell_type": "code",
      "source": [
        "print(data['age'].value_counts())\n",
        "print(data['sex'].value_counts())\n",
        "print(data['children'].value_counts())\n",
        "print(data['smoker'].value_counts())\n",
        "print(data['region'].value_counts())"
      ],
      "metadata": {
        "colab": {
          "base_uri": "https://localhost:8080/"
        },
        "id": "1Y_YZR7hbscH",
        "outputId": "9dd62b93-f88f-4eb9-f066-c233d75a2040"
      },
      "execution_count": 8,
      "outputs": [
        {
          "output_type": "stream",
          "name": "stdout",
          "text": [
            "18    69\n",
            "19    68\n",
            "50    29\n",
            "51    29\n",
            "47    29\n",
            "46    29\n",
            "45    29\n",
            "20    29\n",
            "48    29\n",
            "52    29\n",
            "22    28\n",
            "49    28\n",
            "54    28\n",
            "53    28\n",
            "21    28\n",
            "26    28\n",
            "24    28\n",
            "25    28\n",
            "28    28\n",
            "27    28\n",
            "23    28\n",
            "43    27\n",
            "29    27\n",
            "30    27\n",
            "41    27\n",
            "42    27\n",
            "44    27\n",
            "31    27\n",
            "40    27\n",
            "32    26\n",
            "33    26\n",
            "56    26\n",
            "34    26\n",
            "55    26\n",
            "57    26\n",
            "37    25\n",
            "59    25\n",
            "58    25\n",
            "36    25\n",
            "38    25\n",
            "35    25\n",
            "39    25\n",
            "61    23\n",
            "60    23\n",
            "63    23\n",
            "62    23\n",
            "64    22\n",
            "Name: age, dtype: int64\n",
            "male      676\n",
            "female    662\n",
            "Name: sex, dtype: int64\n",
            "0    574\n",
            "1    324\n",
            "2    240\n",
            "3    157\n",
            "4     25\n",
            "5     18\n",
            "Name: children, dtype: int64\n",
            "no     1064\n",
            "yes     274\n",
            "Name: smoker, dtype: int64\n",
            "southeast    364\n",
            "southwest    325\n",
            "northwest    325\n",
            "northeast    324\n",
            "Name: region, dtype: int64\n"
          ]
        }
      ]
    },
    {
      "cell_type": "markdown",
      "source": [
        "### **Label Encoder**\n",
        "\n",
        "[Dinesh Yadav](https://towardsdatascience.com/categorical-encoding-using-label-encoding-and-one-hot-encoder-911ef77fb5bd) published on Toward Data Science enrich our knowledge by releasing an article about Label Encoder. He said, \"in many Machine-learning or Data Science activities, the data set might contain text or categorical values (basically non-numerical values). For example, color feature having values like red, orange, blue, white etc. Meal plan having values like breakfast, lunch, snacks, dinner, tea etc. Few algorithms such as CATBOAST, decision-trees can handle categorical values very well but most of the algorithms expect numerical values to achieve state-of-the-art results.\""
      ],
      "metadata": {
        "id": "QcFvFxp3EvvZ"
      }
    },
    {
      "cell_type": "code",
      "source": [
        "from sklearn.preprocessing import LabelEncoder\n",
        "# Sex Label Encoder\n",
        "le = LabelEncoder()\n",
        "le.fit(data.sex.drop_duplicates()) \n",
        "data.sex = le.transform(data.sex)\n",
        "# Smoker Label Encoder\n",
        "le.fit(data.smoker.drop_duplicates()) \n",
        "data.smoker = le.transform(data.smoker)\n",
        "# Region Label Encoder\n",
        "le.fit(data.region.drop_duplicates()) \n",
        "data.region = le.transform(data.region)"
      ],
      "metadata": {
        "id": "gWCBt7s5KOSM"
      },
      "execution_count": 9,
      "outputs": []
    },
    {
      "cell_type": "code",
      "source": [
        "data.head(10)"
      ],
      "metadata": {
        "colab": {
          "base_uri": "https://localhost:8080/",
          "height": 363
        },
        "id": "M40s64D-hMLx",
        "outputId": "aba4d27b-36fd-47e3-c108-dcba9fadfb86"
      },
      "execution_count": 10,
      "outputs": [
        {
          "output_type": "execute_result",
          "data": {
            "text/plain": [
              "   age  sex     bmi  children  smoker  region      charges\n",
              "0   19    0  27.900         0       1       3  16884.92400\n",
              "1   18    1  33.770         1       0       2   1725.55230\n",
              "2   28    1  33.000         3       0       2   4449.46200\n",
              "3   33    1  22.705         0       0       1  21984.47061\n",
              "4   32    1  28.880         0       0       1   3866.85520\n",
              "5   31    0  25.740         0       0       2   3756.62160\n",
              "6   46    0  33.440         1       0       2   8240.58960\n",
              "7   37    0  27.740         3       0       1   7281.50560\n",
              "8   37    1  29.830         2       0       0   6406.41070\n",
              "9   60    0  25.840         0       0       1  28923.13692"
            ],
            "text/html": [
              "\n",
              "  <div id=\"df-20f84605-b9bd-40ec-8bb6-65f037ca5d05\">\n",
              "    <div class=\"colab-df-container\">\n",
              "      <div>\n",
              "<style scoped>\n",
              "    .dataframe tbody tr th:only-of-type {\n",
              "        vertical-align: middle;\n",
              "    }\n",
              "\n",
              "    .dataframe tbody tr th {\n",
              "        vertical-align: top;\n",
              "    }\n",
              "\n",
              "    .dataframe thead th {\n",
              "        text-align: right;\n",
              "    }\n",
              "</style>\n",
              "<table border=\"1\" class=\"dataframe\">\n",
              "  <thead>\n",
              "    <tr style=\"text-align: right;\">\n",
              "      <th></th>\n",
              "      <th>age</th>\n",
              "      <th>sex</th>\n",
              "      <th>bmi</th>\n",
              "      <th>children</th>\n",
              "      <th>smoker</th>\n",
              "      <th>region</th>\n",
              "      <th>charges</th>\n",
              "    </tr>\n",
              "  </thead>\n",
              "  <tbody>\n",
              "    <tr>\n",
              "      <th>0</th>\n",
              "      <td>19</td>\n",
              "      <td>0</td>\n",
              "      <td>27.900</td>\n",
              "      <td>0</td>\n",
              "      <td>1</td>\n",
              "      <td>3</td>\n",
              "      <td>16884.92400</td>\n",
              "    </tr>\n",
              "    <tr>\n",
              "      <th>1</th>\n",
              "      <td>18</td>\n",
              "      <td>1</td>\n",
              "      <td>33.770</td>\n",
              "      <td>1</td>\n",
              "      <td>0</td>\n",
              "      <td>2</td>\n",
              "      <td>1725.55230</td>\n",
              "    </tr>\n",
              "    <tr>\n",
              "      <th>2</th>\n",
              "      <td>28</td>\n",
              "      <td>1</td>\n",
              "      <td>33.000</td>\n",
              "      <td>3</td>\n",
              "      <td>0</td>\n",
              "      <td>2</td>\n",
              "      <td>4449.46200</td>\n",
              "    </tr>\n",
              "    <tr>\n",
              "      <th>3</th>\n",
              "      <td>33</td>\n",
              "      <td>1</td>\n",
              "      <td>22.705</td>\n",
              "      <td>0</td>\n",
              "      <td>0</td>\n",
              "      <td>1</td>\n",
              "      <td>21984.47061</td>\n",
              "    </tr>\n",
              "    <tr>\n",
              "      <th>4</th>\n",
              "      <td>32</td>\n",
              "      <td>1</td>\n",
              "      <td>28.880</td>\n",
              "      <td>0</td>\n",
              "      <td>0</td>\n",
              "      <td>1</td>\n",
              "      <td>3866.85520</td>\n",
              "    </tr>\n",
              "    <tr>\n",
              "      <th>5</th>\n",
              "      <td>31</td>\n",
              "      <td>0</td>\n",
              "      <td>25.740</td>\n",
              "      <td>0</td>\n",
              "      <td>0</td>\n",
              "      <td>2</td>\n",
              "      <td>3756.62160</td>\n",
              "    </tr>\n",
              "    <tr>\n",
              "      <th>6</th>\n",
              "      <td>46</td>\n",
              "      <td>0</td>\n",
              "      <td>33.440</td>\n",
              "      <td>1</td>\n",
              "      <td>0</td>\n",
              "      <td>2</td>\n",
              "      <td>8240.58960</td>\n",
              "    </tr>\n",
              "    <tr>\n",
              "      <th>7</th>\n",
              "      <td>37</td>\n",
              "      <td>0</td>\n",
              "      <td>27.740</td>\n",
              "      <td>3</td>\n",
              "      <td>0</td>\n",
              "      <td>1</td>\n",
              "      <td>7281.50560</td>\n",
              "    </tr>\n",
              "    <tr>\n",
              "      <th>8</th>\n",
              "      <td>37</td>\n",
              "      <td>1</td>\n",
              "      <td>29.830</td>\n",
              "      <td>2</td>\n",
              "      <td>0</td>\n",
              "      <td>0</td>\n",
              "      <td>6406.41070</td>\n",
              "    </tr>\n",
              "    <tr>\n",
              "      <th>9</th>\n",
              "      <td>60</td>\n",
              "      <td>0</td>\n",
              "      <td>25.840</td>\n",
              "      <td>0</td>\n",
              "      <td>0</td>\n",
              "      <td>1</td>\n",
              "      <td>28923.13692</td>\n",
              "    </tr>\n",
              "  </tbody>\n",
              "</table>\n",
              "</div>\n",
              "      <button class=\"colab-df-convert\" onclick=\"convertToInteractive('df-20f84605-b9bd-40ec-8bb6-65f037ca5d05')\"\n",
              "              title=\"Convert this dataframe to an interactive table.\"\n",
              "              style=\"display:none;\">\n",
              "        \n",
              "  <svg xmlns=\"http://www.w3.org/2000/svg\" height=\"24px\"viewBox=\"0 0 24 24\"\n",
              "       width=\"24px\">\n",
              "    <path d=\"M0 0h24v24H0V0z\" fill=\"none\"/>\n",
              "    <path d=\"M18.56 5.44l.94 2.06.94-2.06 2.06-.94-2.06-.94-.94-2.06-.94 2.06-2.06.94zm-11 1L8.5 8.5l.94-2.06 2.06-.94-2.06-.94L8.5 2.5l-.94 2.06-2.06.94zm10 10l.94 2.06.94-2.06 2.06-.94-2.06-.94-.94-2.06-.94 2.06-2.06.94z\"/><path d=\"M17.41 7.96l-1.37-1.37c-.4-.4-.92-.59-1.43-.59-.52 0-1.04.2-1.43.59L10.3 9.45l-7.72 7.72c-.78.78-.78 2.05 0 2.83L4 21.41c.39.39.9.59 1.41.59.51 0 1.02-.2 1.41-.59l7.78-7.78 2.81-2.81c.8-.78.8-2.07 0-2.86zM5.41 20L4 18.59l7.72-7.72 1.47 1.35L5.41 20z\"/>\n",
              "  </svg>\n",
              "      </button>\n",
              "      \n",
              "  <style>\n",
              "    .colab-df-container {\n",
              "      display:flex;\n",
              "      flex-wrap:wrap;\n",
              "      gap: 12px;\n",
              "    }\n",
              "\n",
              "    .colab-df-convert {\n",
              "      background-color: #E8F0FE;\n",
              "      border: none;\n",
              "      border-radius: 50%;\n",
              "      cursor: pointer;\n",
              "      display: none;\n",
              "      fill: #1967D2;\n",
              "      height: 32px;\n",
              "      padding: 0 0 0 0;\n",
              "      width: 32px;\n",
              "    }\n",
              "\n",
              "    .colab-df-convert:hover {\n",
              "      background-color: #E2EBFA;\n",
              "      box-shadow: 0px 1px 2px rgba(60, 64, 67, 0.3), 0px 1px 3px 1px rgba(60, 64, 67, 0.15);\n",
              "      fill: #174EA6;\n",
              "    }\n",
              "\n",
              "    [theme=dark] .colab-df-convert {\n",
              "      background-color: #3B4455;\n",
              "      fill: #D2E3FC;\n",
              "    }\n",
              "\n",
              "    [theme=dark] .colab-df-convert:hover {\n",
              "      background-color: #434B5C;\n",
              "      box-shadow: 0px 1px 3px 1px rgba(0, 0, 0, 0.15);\n",
              "      filter: drop-shadow(0px 1px 2px rgba(0, 0, 0, 0.3));\n",
              "      fill: #FFFFFF;\n",
              "    }\n",
              "  </style>\n",
              "\n",
              "      <script>\n",
              "        const buttonEl =\n",
              "          document.querySelector('#df-20f84605-b9bd-40ec-8bb6-65f037ca5d05 button.colab-df-convert');\n",
              "        buttonEl.style.display =\n",
              "          google.colab.kernel.accessAllowed ? 'block' : 'none';\n",
              "\n",
              "        async function convertToInteractive(key) {\n",
              "          const element = document.querySelector('#df-20f84605-b9bd-40ec-8bb6-65f037ca5d05');\n",
              "          const dataTable =\n",
              "            await google.colab.kernel.invokeFunction('convertToInteractive',\n",
              "                                                     [key], {});\n",
              "          if (!dataTable) return;\n",
              "\n",
              "          const docLinkHtml = 'Like what you see? Visit the ' +\n",
              "            '<a target=\"_blank\" href=https://colab.research.google.com/notebooks/data_table.ipynb>data table notebook</a>'\n",
              "            + ' to learn more about interactive tables.';\n",
              "          element.innerHTML = '';\n",
              "          dataTable['output_type'] = 'display_data';\n",
              "          await google.colab.output.renderOutput(dataTable, element);\n",
              "          const docLink = document.createElement('div');\n",
              "          docLink.innerHTML = docLinkHtml;\n",
              "          element.appendChild(docLink);\n",
              "        }\n",
              "      </script>\n",
              "    </div>\n",
              "  </div>\n",
              "  "
            ]
          },
          "metadata": {},
          "execution_count": 10
        }
      ]
    },
    {
      "cell_type": "markdown",
      "source": [
        "### **Data Cleaning**\n",
        "\n",
        "Data cleaning is a critically important step in any machine learning project. Data Cleaning always refers to *identifying* and *correcting errors* in the Dataset that may negatively *impact* to our *predictive model*. But not only to *predictive model* that will be impacted by errors and also another models will be *impacted by errors of the dataset*."
      ],
      "metadata": {
        "id": "sa1UbE0bgPwD"
      }
    },
    {
      "cell_type": "markdown",
      "source": [
        "#### **Missing Value**\n",
        "\n",
        "Missing values can heavily influence your models, depending on the way that you handle them. The fact the value is missing may have significant meaning within your model and your target problem. (source: [Zachary Warnes on Medium](https://towardsdatascience.com/missing-value-handling-missing-data-types-a89c0d81a5bb))\n"
      ],
      "metadata": {
        "id": "8rDissx469uh"
      }
    },
    {
      "cell_type": "code",
      "source": [
        "# Missing value Check on all of variable\n",
        "data.isnull().sum()"
      ],
      "metadata": {
        "colab": {
          "base_uri": "https://localhost:8080/"
        },
        "id": "J54gTMl26ne2",
        "outputId": "19c55081-638d-45de-c668-03546df62a25"
      },
      "execution_count": 11,
      "outputs": [
        {
          "output_type": "execute_result",
          "data": {
            "text/plain": [
              "age         0\n",
              "sex         0\n",
              "bmi         0\n",
              "children    0\n",
              "smoker      0\n",
              "region      0\n",
              "charges     0\n",
              "dtype: int64"
            ]
          },
          "metadata": {},
          "execution_count": 11
        }
      ]
    },
    {
      "cell_type": "markdown",
      "source": [
        "Based on checking for missing values, this dataset does not have a missing value in each column or it can be said to be a Clean Dataset."
      ],
      "metadata": {
        "id": "sceltU2l7iLd"
      }
    },
    {
      "cell_type": "markdown",
      "source": [
        "#### **Duplicated Rows**\n",
        "\n",
        "The same case as Missing Values, duplicated data is one of the problems in the dataset that needs to be eliminated to avoid misreading in our Machine Learning.\n",
        "Duplication of data will cause prediction errors and also misclassification in machine learning."
      ],
      "metadata": {
        "id": "NXEWTOMy8awu"
      }
    },
    {
      "cell_type": "code",
      "source": [
        "# Checking for Duplicated Rows\n",
        "data.duplicated().sum()"
      ],
      "metadata": {
        "colab": {
          "base_uri": "https://localhost:8080/"
        },
        "id": "2uivQJNV7DVP",
        "outputId": "90f02398-1afc-4116-8dd5-adc1b966ae4d"
      },
      "execution_count": 12,
      "outputs": [
        {
          "output_type": "execute_result",
          "data": {
            "text/plain": [
              "1"
            ]
          },
          "metadata": {},
          "execution_count": 12
        }
      ]
    },
    {
      "cell_type": "markdown",
      "source": [
        "There is 1 duplicated data contain in our Dataset. The only option to handle Duplicated Data is removing the data."
      ],
      "metadata": {
        "id": "H2eRnz0RksVF"
      }
    },
    {
      "cell_type": "code",
      "source": [
        "# Dropping duplicated data with None Subset\n",
        "data.drop_duplicates(subset = None, keep = False, inplace = True)\n",
        "\n",
        "#Checking size of Data\n",
        "data.shape"
      ],
      "metadata": {
        "colab": {
          "base_uri": "https://localhost:8080/"
        },
        "id": "0mOU14Yt8kIU",
        "outputId": "db4cb121-9494-4e1a-f064-f68e3fece306"
      },
      "execution_count": 13,
      "outputs": [
        {
          "output_type": "execute_result",
          "data": {
            "text/plain": [
              "(1336, 7)"
            ]
          },
          "metadata": {},
          "execution_count": 13
        }
      ]
    },
    {
      "cell_type": "markdown",
      "source": [
        "## **Data Visualization**\n",
        "\n",
        "Based on [Tableau](https://www.tableau.com/learn/articles/data-visualization#:~:text=Data%20visualization%20helps%20to%20tell,and%20highlighting%20the%20useful%20information.) article, it said \"Data visualization helps to tell stories by curating data into a form easier to understand, highlighting the trends and outliers. A good visualization tells a story, removing the noise from data and highlighting the useful information.\""
      ],
      "metadata": {
        "id": "ianRczgBIRSs"
      }
    },
    {
      "cell_type": "markdown",
      "source": [
        "### **Data Visualization of Outlier**\n",
        "\n",
        "An outlier can also be identified through visualization using a box plot."
      ],
      "metadata": {
        "id": "zB8AI2Dl4rrs"
      }
    },
    {
      "cell_type": "markdown",
      "source": [
        "#### **Outlier Visualization of Age Column**"
      ],
      "metadata": {
        "id": "SmODjVB6SHvI"
      }
    },
    {
      "cell_type": "code",
      "source": [
        "# Outlier of Age Column\n",
        "\n",
        "plt.style.use('ggplot')\n",
        "ax = data['age'].plot.box(figsize=(15, 15))\n",
        "plt.figure(figsize=(30, 15))\n",
        "ax.tick_params(axis='x', labelrotation=45, labelsize=15)"
      ],
      "metadata": {
        "colab": {
          "base_uri": "https://localhost:8080/",
          "height": 901
        },
        "id": "nSYzDXc14eEi",
        "outputId": "93e24741-7256-4ed5-eda2-69aa43b372cf"
      },
      "execution_count": 14,
      "outputs": [
        {
          "output_type": "display_data",
          "data": {
            "text/plain": [
              "<Figure size 1080x1080 with 1 Axes>"
            ],
            "image/png": "[encoded data removed]"
          },
          "metadata": {}
        },
        {
          "output_type": "display_data",
          "data": {
            "text/plain": [
              "<Figure size 2160x1080 with 0 Axes>"
            ]
          },
          "metadata": {}
        }
      ]
    },
    {
      "cell_type": "markdown",
      "source": [
        "Seen from the visualization, no outliers were found in the age column. Where there is no data below the lower limit and no data above the upper limit."
      ],
      "metadata": {
        "id": "P6R-tyugMHqX"
      }
    },
    {
      "cell_type": "code",
      "source": [
        "# Check using Z-Score Method\n",
        "\n",
        "def out_zscore(data):\n",
        "    global outliers,zscore\n",
        "    outliers = []\n",
        "    zscore = []\n",
        "    threshold = 3\n",
        "    mean = np.mean(data)\n",
        "    std = np.std(data)\n",
        "    for i in data:\n",
        "        z_score= (i - mean)/std \n",
        "        zscore.append(z_score)\n",
        "        if np.abs(z_score) > threshold:\n",
        "            outliers.append(i)\n",
        "    return print(\"Total number of outliers are\",len(outliers))"
      ],
      "metadata": {
        "id": "42klXUP7NS4u"
      },
      "execution_count": 15,
      "outputs": []
    },
    {
      "cell_type": "code",
      "source": [
        "out_zscore(data.age)"
      ],
      "metadata": {
        "colab": {
          "base_uri": "https://localhost:8080/"
        },
        "id": "T1399W_2NZHM",
        "outputId": "684a32b0-7644-4385-aa29-3d8336576ba0"
      },
      "execution_count": 16,
      "outputs": [
        {
          "output_type": "stream",
          "name": "stdout",
          "text": [
            "Total number of outliers are 0\n"
          ]
        }
      ]
    },
    {
      "cell_type": "markdown",
      "source": [
        "The result on boxplot visualization and Z-Score method have similar value of 0 outlier."
      ],
      "metadata": {
        "id": "vWUVITOkQGZW"
      }
    },
    {
      "cell_type": "markdown",
      "source": [
        "#### **Outlier Visualization of BMI Column**"
      ],
      "metadata": {
        "id": "RKK8QBIfSQdy"
      }
    },
    {
      "cell_type": "code",
      "source": [
        "# Outlier of BMI (Body Mass Index) Column\n",
        "plt.style.use('ggplot')\n",
        "ax = data['bmi'].plot.box(figsize=(15, 15))\n",
        "plt.figure(figsize=(30, 15))\n",
        "ax.tick_params(axis='x', labelrotation=45, labelsize=15)"
      ],
      "metadata": {
        "colab": {
          "base_uri": "https://localhost:8080/",
          "height": 901
        },
        "id": "wONKU_By45sl",
        "outputId": "93c39a22-3033-4425-9682-db95f30c6276"
      },
      "execution_count": 17,
      "outputs": [
        {
          "output_type": "display_data",
          "data": {
            "text/plain": [
              "<Figure size 1080x1080 with 1 Axes>"
            ],
            "image/png": "[encoded data removed]"
          },
          "metadata": {}
        },
        {
          "output_type": "display_data",
          "data": {
            "text/plain": [
              "<Figure size 2160x1080 with 0 Axes>"
            ]
          },
          "metadata": {}
        }
      ]
    },
    {
      "cell_type": "markdown",
      "source": [
        "From the visualization, it can be seen that there are several outliers in the BMI column. The number of outliers can be determined using the Z-Score method."
      ],
      "metadata": {
        "id": "KfESxG8GO1UI"
      }
    },
    {
      "cell_type": "code",
      "source": [
        "out_zscore(data.bmi)"
      ],
      "metadata": {
        "colab": {
          "base_uri": "https://localhost:8080/"
        },
        "id": "rxTCtdDGPZZh",
        "outputId": "bf670eec-cd31-4e94-b696-b0dbe2f67922"
      },
      "execution_count": 18,
      "outputs": [
        {
          "output_type": "stream",
          "name": "stdout",
          "text": [
            "Total number of outliers are 4\n"
          ]
        }
      ]
    },
    {
      "cell_type": "markdown",
      "source": [
        "Based on boxplot visualization, there are a lot of outlier but when it used of Z-Score, it tells us there are only 4 outlier.\n",
        "\n",
        "[Mahbubul Alam](https://towardsdatascience.com/z-score-for-anomaly-detection-d98b0006f510) once wrote an article about the Z-Score method on Toward Data Science. In his writing, Mahbubul Alam said, there is a threshold determination in the use of Z-Score where the use of different threshold values will affect the ability of the Z-Score method to detect outliers in a data. Remember, determination of this threshold will make the calculation of the Z-Score method very sensitive.\n",
        "\n",
        "So it's really common if the result will be different from each method to other method."
      ],
      "metadata": {
        "id": "5tgOOb6eQaRU"
      }
    },
    {
      "cell_type": "markdown",
      "source": [
        "#### **Outlier Visualization of Children Column**"
      ],
      "metadata": {
        "id": "6XR-hD1vSTxA"
      }
    },
    {
      "cell_type": "code",
      "source": [
        "# Outlier of Children Column\n",
        "plt.style.use('ggplot')\n",
        "ax = data['children'].plot.box(figsize=(15, 15))\n",
        "plt.figure(figsize=(30, 15))\n",
        "ax.tick_params(axis='x', labelrotation=45, labelsize=15)"
      ],
      "metadata": {
        "colab": {
          "base_uri": "https://localhost:8080/",
          "height": 924
        },
        "id": "WXQX6xgU5EcG",
        "outputId": "216cb4f6-2ffe-45cb-c09d-abc7f5b01912"
      },
      "execution_count": 19,
      "outputs": [
        {
          "output_type": "display_data",
          "data": {
            "text/plain": [
              "<Figure size 1080x1080 with 1 Axes>"
            ],
            "image/png": "[encoded data removed]"
          },
          "metadata": {}
        },
        {
          "output_type": "display_data",
          "data": {
            "text/plain": [
              "<Figure size 2160x1080 with 0 Axes>"
            ]
          },
          "metadata": {}
        }
      ]
    },
    {
      "cell_type": "markdown",
      "source": [
        "Seen from the visualization, no outliers were found in the children column. Where there is no data below the lower limit and no data above the upper limit.\n",
        "\n",
        "It is really common when your data only have 2 or 3 unique value."
      ],
      "metadata": {
        "id": "TSRPelSEPs6W"
      }
    },
    {
      "cell_type": "code",
      "source": [
        "out_zscore(data.children)"
      ],
      "metadata": {
        "colab": {
          "base_uri": "https://localhost:8080/"
        },
        "id": "O0H1XWIbP_uM",
        "outputId": "464e9db8-a14f-4fe6-a7e2-fecd657f9842"
      },
      "execution_count": 20,
      "outputs": [
        {
          "output_type": "stream",
          "name": "stdout",
          "text": [
            "Total number of outliers are 18\n"
          ]
        }
      ]
    },
    {
      "cell_type": "markdown",
      "source": [
        "Like [Mahbubul Alam](https://towardsdatascience.com/z-score-for-anomaly-detection-d98b0006f510) said, Z-Score method really sensitif to detect an outlier."
      ],
      "metadata": {
        "id": "7xhrEwMcT8Ug"
      }
    },
    {
      "cell_type": "markdown",
      "source": [
        "#### **Outlier Visualization of Charges Column**"
      ],
      "metadata": {
        "id": "IoPkp8u-UZjP"
      }
    },
    {
      "cell_type": "code",
      "source": [
        "# Outlier of Charges Column\n",
        "plt.style.use('ggplot')\n",
        "ax = data['charges'].plot.box(figsize=(15, 15))\n",
        "plt.figure(figsize=(30, 15))\n",
        "ax.tick_params(axis='x', labelrotation=45, labelsize=15)"
      ],
      "metadata": {
        "colab": {
          "base_uri": "https://localhost:8080/",
          "height": 923
        },
        "id": "UUQyj1eL5IBT",
        "outputId": "931e13cf-0d96-4c32-d030-4d8ffa324eaa"
      },
      "execution_count": 21,
      "outputs": [
        {
          "output_type": "display_data",
          "data": {
            "text/plain": [
              "<Figure size 1080x1080 with 1 Axes>"
            ],
            "image/png": "[encoded data removed]"
          },
          "metadata": {}
        },
        {
          "output_type": "display_data",
          "data": {
            "text/plain": [
              "<Figure size 2160x1080 with 0 Axes>"
            ]
          },
          "metadata": {}
        }
      ]
    },
    {
      "cell_type": "markdown",
      "source": [
        "There are a lot of outlier with Box Plot."
      ],
      "metadata": {
        "id": "GjrlS9g3U1Ia"
      }
    },
    {
      "cell_type": "code",
      "source": [
        "# Use Z-Score Method\n",
        "out_zscore(data.charges)"
      ],
      "metadata": {
        "colab": {
          "base_uri": "https://localhost:8080/"
        },
        "id": "w3Yf4FsIU6lT",
        "outputId": "5c2fabea-c21f-450d-8b4c-aca6ff34e2ac"
      },
      "execution_count": 22,
      "outputs": [
        {
          "output_type": "stream",
          "name": "stdout",
          "text": [
            "Total number of outliers are 7\n"
          ]
        }
      ]
    },
    {
      "cell_type": "markdown",
      "source": [
        "In outlier detection using the Z-Score method, only 7 outliers were found in the charges column."
      ],
      "metadata": {
        "id": "dIstpXXgVJ7z"
      }
    },
    {
      "cell_type": "markdown",
      "source": [
        "### **Data Visualization of Distribution**"
      ],
      "metadata": {
        "id": "KWzHlJHsYm5y"
      }
    },
    {
      "cell_type": "code",
      "source": [
        "# Using histogram to show Normalized Distribution \n",
        "\n",
        "data.hist()"
      ],
      "metadata": {
        "colab": {
          "base_uri": "https://localhost:8080/",
          "height": 456
        },
        "id": "dtvlGlZP5NQy",
        "outputId": "1ff73dc0-d331-42d6-a892-2363a55069b6"
      },
      "execution_count": 23,
      "outputs": [
        {
          "output_type": "execute_result",
          "data": {
            "text/plain": [
              "array([[<matplotlib.axes._subplots.AxesSubplot object at 0x7f880c605f50>,\n",
              "        <matplotlib.axes._subplots.AxesSubplot object at 0x7f880c5aed90>,\n",
              "        <matplotlib.axes._subplots.AxesSubplot object at 0x7f880c56e3d0>],\n",
              "       [<matplotlib.axes._subplots.AxesSubplot object at 0x7f880c5a59d0>,\n",
              "        <matplotlib.axes._subplots.AxesSubplot object at 0x7f880c55bfd0>,\n",
              "        <matplotlib.axes._subplots.AxesSubplot object at 0x7f880c521610>],\n",
              "       [<matplotlib.axes._subplots.AxesSubplot object at 0x7f880c4d7c10>,\n",
              "        <matplotlib.axes._subplots.AxesSubplot object at 0x7f880c498f10>,\n",
              "        <matplotlib.axes._subplots.AxesSubplot object at 0x7f880c498f50>]],\n",
              "      dtype=object)"
            ]
          },
          "metadata": {},
          "execution_count": 23
        },
        {
          "output_type": "display_data",
          "data": {
            "text/plain": [
              "<Figure size 432x288 with 9 Axes>"
            ],
            "image/png": "[encoded data removed]"
          },
          "metadata": {}
        }
      ]
    },
    {
      "cell_type": "code",
      "source": [
        "plt.figure(figsize=(10,5))\n",
        "plt.title(\"Distribution of Age\")\n",
        "sns.distplot(data['age'])\n",
        "plt.show()\n",
        "\n",
        "print('/n')\n",
        "\n",
        "plt.figure(figsize=(10,5))\n",
        "plt.title(\"Distribution of BMI\")\n",
        "sns.distplot(data['bmi'])\n",
        "plt.show()\n",
        "\n",
        "print('/n')\n",
        "\n",
        "plt.figure(figsize=(10,5))\n",
        "plt.title(\"Distribution of Children\")\n",
        "sns.distplot(data['children'])\n",
        "plt.show()\n",
        "\n",
        "print('/n')\n",
        "\n",
        "plt.figure(figsize=(10,5))\n",
        "plt.title(\"Distribution of Charges\")\n",
        "sns.distplot(data['charges'])\n",
        "plt.show()"
      ],
      "metadata": {
        "colab": {
          "base_uri": "https://localhost:8080/",
          "height": 1000
        },
        "id": "Ecn-M_4s5Y3O",
        "outputId": "fcb7fe8a-1385-467f-8357-4302def77e6c"
      },
      "execution_count": 24,
      "outputs": [
        {
          "output_type": "display_data",
          "data": {
            "text/plain": [
              "<Figure size 720x360 with 1 Axes>"
            ],
            "image/png": "[encoded data removed]"
          },
          "metadata": {}
        },
        {
          "output_type": "stream",
          "name": "stdout",
          "text": [
            "/n\n"
          ]
        },
        {
          "output_type": "display_data",
          "data": {
            "text/plain": [
              "<Figure size 720x360 with 1 Axes>"
            ],
            "image/png": "[encoded data removed]"
          },
          "metadata": {}
        },
        {
          "output_type": "stream",
          "name": "stdout",
          "text": [
            "/n\n"
          ]
        },
        {
          "output_type": "display_data",
          "data": {
            "text/plain": [
              "<Figure size 720x360 with 1 Axes>"
            ],
            "image/png": "[encoded data removed]"
          },
          "metadata": {}
        },
        {
          "output_type": "stream",
          "name": "stdout",
          "text": [
            "/n\n"
          ]
        },
        {
          "output_type": "display_data",
          "data": {
            "text/plain": [
              "<Figure size 720x360 with 1 Axes>"
            ],
            "image/png": "[encoded data removed]"
          },
          "metadata": {}
        }
      ]
    },
    {
      "cell_type": "markdown",
      "source": [
        "### **Data Visualization Categorical and Continuous (Numerical)**\n",
        "\n",
        "This visualization to show relation between Categorical variables such as smoker, sex, and region."
      ],
      "metadata": {
        "id": "DLkctki0nTJL"
      }
    },
    {
      "cell_type": "code",
      "source": [
        "sns.catplot(x=\"smoker\", kind=\"count\",hue = 'sex', palette=\"icefire\", data=data)"
      ],
      "metadata": {
        "id": "wLKLQUPl7kcP",
        "colab": {
          "base_uri": "https://localhost:8080/",
          "height": 386
        },
        "outputId": "129a6611-3f5d-44cf-8098-34d968a88b20"
      },
      "execution_count": 25,
      "outputs": [
        {
          "output_type": "execute_result",
          "data": {
            "text/plain": [
              "<seaborn.axisgrid.FacetGrid at 0x7f880c3b6c50>"
            ]
          },
          "metadata": {},
          "execution_count": 25
        },
        {
          "output_type": "display_data",
          "data": {
            "text/plain": [
              "<Figure size 402.375x360 with 1 Axes>"
            ],
            "image/png": "[encoded data removed]"
          },
          "metadata": {}
        }
      ]
    },
    {
      "cell_type": "markdown",
      "source": [
        "Based on the visualization of the number of **Smokers** classified by **Sex**, when code \"1\" representative of Male/Man and code \"0\" representative of Female/Woman. Now we know, a lot of smoker on this dataset is clasified by gender is **dominated by Woman**."
      ],
      "metadata": {
        "id": "c7bbG-bxfXGK"
      }
    },
    {
      "cell_type": "code",
      "source": [
        "sns.catplot(x=\"smoker\", kind=\"count\",hue = 'region', palette=\"Blues\", data=data)"
      ],
      "metadata": {
        "colab": {
          "base_uri": "https://localhost:8080/",
          "height": 386
        },
        "id": "ZyCmaHPdoKLD",
        "outputId": "1836d55d-e0f3-4703-96d5-b580c01d3fc4"
      },
      "execution_count": 26,
      "outputs": [
        {
          "output_type": "execute_result",
          "data": {
            "text/plain": [
              "<seaborn.axisgrid.FacetGrid at 0x7f880c69f9d0>"
            ]
          },
          "metadata": {},
          "execution_count": 26
        },
        {
          "output_type": "display_data",
          "data": {
            "text/plain": [
              "<Figure size 402.375x360 with 1 Axes>"
            ],
            "image/png": "[encoded data removed]"
          },
          "metadata": {}
        }
      ]
    },
    {
      "cell_type": "markdown",
      "source": [
        "By region, the Southeast region has a higher number of smokers than other regions. Followed by the Northeast region."
      ],
      "metadata": {
        "id": "hdMzMUvshDa4"
      }
    },
    {
      "cell_type": "code",
      "source": [
        "plt.figure(figsize=(10,5))\n",
        "sns.catplot(x=\"sex\", y=\"charges\", hue=\"smoker\",\n",
        "            kind=\"violin\", data=data, palette = 'inferno')\n",
        "plt.title(\"Comparison of Gender to Charges Issued\")"
      ],
      "metadata": {
        "colab": {
          "base_uri": "https://localhost:8080/",
          "height": 421
        },
        "id": "WCHtFbQeo5RW",
        "outputId": "65843397-8cca-4aca-8403-177df2b8e4b5"
      },
      "execution_count": 27,
      "outputs": [
        {
          "output_type": "execute_result",
          "data": {
            "text/plain": [
              "Text(0.5, 1.0, 'Comparison of Gender to Charges Issued')"
            ]
          },
          "metadata": {},
          "execution_count": 27
        },
        {
          "output_type": "display_data",
          "data": {
            "text/plain": [
              "<Figure size 720x360 with 0 Axes>"
            ]
          },
          "metadata": {}
        },
        {
          "output_type": "display_data",
          "data": {
            "text/plain": [
              "<Figure size 404.5x360 with 1 Axes>"
            ],
            "image/png": "[encoded data removed]"
          },
          "metadata": {}
        }
      ]
    },
    {
      "cell_type": "markdown",
      "source": [
        "Visualization was carried out to see the comparison of **Gender** to **Health Charges** issued, it was found that the largest expenditure was found in patients who had a **history of Smoking** and occurred in both sexes being compared."
      ],
      "metadata": {
        "id": "gpo-vZYujbem"
      }
    },
    {
      "cell_type": "code",
      "source": [
        " plt.figure(figsize=(20,5))\n",
        " plt.title(\"Distribution of Charges on Smoker at 18 years old\")\n",
        " sns.boxplot(\n",
        "     x='charges', y='smoker', data=data[(data.age == 18)], orient = 'h', palette = 'cool')"
      ],
      "metadata": {
        "id": "osIeQSm6rS-6",
        "colab": {
          "base_uri": "https://localhost:8080/",
          "height": 308
        },
        "outputId": "884c5cb3-21b9-4ccb-8d28-e995d69ff203"
      },
      "execution_count": 28,
      "outputs": [
        {
          "output_type": "execute_result",
          "data": {
            "text/plain": [
              "<matplotlib.axes._subplots.AxesSubplot at 0x7f880a1078d0>"
            ]
          },
          "metadata": {},
          "execution_count": 28
        },
        {
          "output_type": "display_data",
          "data": {
            "text/plain": [
              "<Figure size 1440x360 with 1 Axes>"
            ],
            "image/png": "[encoded data removed]"
          },
          "metadata": {}
        }
      ]
    },
    {
      "cell_type": "markdown",
      "source": [
        "Why I choose to pick 18 years old to compare between smoker and non-smker?\n",
        "\n",
        "The count of 18 years old in column of age, are the largest.\n",
        "\n",
        "Comparison of smokers and non-smokers, at the age of 18 years who have a history of smoking habits also incur large and inflated costs compared to non-smokers."
      ],
      "metadata": {
        "id": "v-ub80tdlSEF"
      }
    },
    {
      "cell_type": "markdown",
      "source": [
        "### **Visualization of Correlation Value**\n",
        "\n",
        "[Kristoffer Magnusson](https://rpsychologist.com/) released an article on the [rpsychologist.com](https://rpsychologist.com/) page that discussed '[**Interpreting Correlation**](https://rpsychologist.com/correlation/#:~:text=An%20Interactive%20Visualization&text=Correlation%20is%20one%20of%20the,variables%20with%20a%20given%20correlation.)'. he said, Correlation is one of the most widely used tools in statistics. The correlation coefficient summarizes the association between two variables. In this visualization I show a scatter plot of two variables with a given correlation.\n",
        "\n",
        "That's mean, a visualization on correlation is the best way to tell audience about relation between each variables.\n",
        "\n",
        "\n",
        "**Correlation** is done by making \"charges\" as the dependent variable and other variables as independent variables."
      ],
      "metadata": {
        "id": "M25dMSncmYaB"
      }
    },
    {
      "cell_type": "code",
      "source": [
        "data.corr()['charges'].sort_values()"
      ],
      "metadata": {
        "colab": {
          "base_uri": "https://localhost:8080/"
        },
        "id": "61dflYr0dxo8",
        "outputId": "bf698d95-480a-4567-e1a8-abc719c00e8a"
      },
      "execution_count": 29,
      "outputs": [
        {
          "output_type": "execute_result",
          "data": {
            "text/plain": [
              "region     -0.006886\n",
              "sex         0.058799\n",
              "children    0.066779\n",
              "bmi         0.198461\n",
              "age         0.297606\n",
              "smoker      0.787217\n",
              "charges     1.000000\n",
              "Name: charges, dtype: float64"
            ]
          },
          "metadata": {},
          "execution_count": 29
        }
      ]
    },
    {
      "cell_type": "markdown",
      "source": [
        "Before we jump to corrmap, we need to look up at the correlation value it self.\n",
        "\n",
        "The greatest correlation value occurs between the relationship between smoking habits and charges."
      ],
      "metadata": {
        "id": "s056cCQboJm5"
      }
    },
    {
      "cell_type": "code",
      "source": [
        "f, ax = plt.subplots(figsize=(10, 8))\n",
        "corr = data.corr()\n",
        "sns.heatmap(corr, mask=np.zeros_like(corr, dtype=np.bool), cmap=sns.diverging_palette(240,10,as_cmap=True),\n",
        "            square=True, ax=ax)"
      ],
      "metadata": {
        "colab": {
          "base_uri": "https://localhost:8080/",
          "height": 504
        },
        "id": "ooMYuKDBoHAP",
        "outputId": "ceb48ab5-3dd1-4d82-d5f3-56491fb93694"
      },
      "execution_count": 30,
      "outputs": [
        {
          "output_type": "execute_result",
          "data": {
            "text/plain": [
              "<matplotlib.axes._subplots.AxesSubplot at 0x7f8807670cd0>"
            ]
          },
          "metadata": {},
          "execution_count": 30
        },
        {
          "output_type": "display_data",
          "data": {
            "text/plain": [
              "<Figure size 720x576 with 2 Axes>"
            ],
            "image/png": "[encoded data removed]"
          },
          "metadata": {}
        }
      ]
    },
    {
      "cell_type": "markdown",
      "source": [
        "![![image.png](attachment:image.png)](https://media0.giphy.com/media/L33iqLKkq6FguSL9X3/200w.webp?cid=ecf05e474druzuocd1hcn9lmtw9898lzf9q0ybnrpew22x9c&rid=200w.webp&ct=g)\n",
        "\n",
        "**Smoking** become the **greatest factor** to increase **medical charges**."
      ],
      "metadata": {
        "id": "VAHQODQaqGax"
      }
    },
    {
      "cell_type": "markdown",
      "source": [
        "## **Models**\n",
        "\n",
        "The outputs of prediction and feature engineering are a set of label times, historical examples of what we want to predict, and features, predictor variables used to train a model to predict the label. The process of modeling means training a machine learning algorithm to predict the labels from the features, tuning it for the business need, and validating it on holdout data."
      ],
      "metadata": {
        "id": "RMj2o5g0tllw"
      }
    },
    {
      "cell_type": "markdown",
      "source": [
        "### **Splitting Data into Train and Test**"
      ],
      "metadata": {
        "id": "6oQHMmXivD-g"
      }
    },
    {
      "cell_type": "code",
      "source": [
        "X = data.drop('charges', axis = 1)\n",
        "y = data['charges']\n",
        "X_train, X_test, y_train, y_test= train_test_split(X, y, test_size=0.3, random_state=101)"
      ],
      "metadata": {
        "id": "I0pjjWUFohsx"
      },
      "execution_count": 31,
      "outputs": []
    },
    {
      "cell_type": "markdown",
      "source": [
        "Separating data into training and testing sets is an important stage of evaluating data mining models. Typically, when you separate a data set into a training set and testing set, most of the data is used for training, and a smaller portion of the data is used for testing. Analysis Services randomly samples the data to help ensure that the testing and training sets are similar. By using similar data for training and testing, you can minimize the effects of data discrepancies and better understand the characteristics of the model."
      ],
      "metadata": {
        "id": "s5VbBu2Sv-Vf"
      }
    },
    {
      "cell_type": "markdown",
      "source": [
        "### **Scaling Data**\n",
        "\n",
        "Based on [Baijayanta Raoi articles](https://towardsdatascience.com/all-about-feature-scaling-bcc0ad75cb35), in many machine learning algorithms, to bring all features in the same standing, we need to do scaling so that one significant number doesn’t impact the model just because of their large magnitude.\n",
        "\n",
        "Feature scaling in machine learning is one of the most critical steps during the pre-processing of data before creating a machine learning model. Scaling can make a difference between a weak machine learning model and a better one."
      ],
      "metadata": {
        "id": "LCSf9riVwwJy"
      }
    },
    {
      "cell_type": "code",
      "source": [
        "scaler= StandardScaler()\n",
        "scaler.fit(X_train)\n",
        "X_train_scaled= scaler.transform(X_train)\n",
        "X_test_scaled= scaler.transform(X_test)"
      ],
      "metadata": {
        "id": "KZIu0IFcwvnC"
      },
      "execution_count": 32,
      "outputs": []
    },
    {
      "cell_type": "markdown",
      "source": [
        "### **Modeling**\n",
        "\n",
        "We need to try and evaluate into our model, and it is really common to use more than 2 model to looking for the best fit model into our Data."
      ],
      "metadata": {
        "id": "Dp-WK3vPxlbr"
      }
    },
    {
      "cell_type": "markdown",
      "source": [
        "#### **Linear Regression Model**\n",
        "\n",
        "**Linear Regression** is a basic and commonly used type of **Predictive Analysis**.  The overall idea of regression is to examine two things: \n",
        "\n",
        "\n",
        "1.   Does a set of predictor variables do a good job in predicting an outcome (dependent) variable?\n",
        "2.   Which variables in particular are significant predictors of the outcome variable, and in what way do they–indicated by the magnitude and sign of the beta estimates–impact the outcome variable?\n",
        "\n",
        "\n",
        "These regression estimates are used to explain the relationship between one dependent variable and one or more independent variables.  The simplest form of the regression equation with one dependent and one independent variable is defined by the formula \n",
        "\n",
        "[ y = c + b*x ], \n",
        "\n",
        "where: \n",
        "\n",
        "y = estimated dependent variable score\n",
        "\n",
        "c = constant\n",
        "\n",
        "b = regression coefficient\n",
        "\n",
        "x = score on the independent variable."
      ],
      "metadata": {
        "id": "rCUiSqf6yGhR"
      }
    },
    {
      "cell_type": "code",
      "source": [
        "linear_reg_model= LinearRegression()\n",
        "linear_reg_model.fit(X_train_scaled, y_train)\n",
        "y_pred = linear_reg_model.predict(X_test_scaled)\n",
        "y_pred = pd.DataFrame(y_pred)\n",
        "MAE_li_reg= metrics.mean_absolute_error(y_test, y_pred)\n",
        "MSE_li_reg = metrics.mean_squared_error(y_test, y_pred)\n",
        "RMSE_li_reg =np.sqrt(MSE_li_reg)\n",
        "pd.DataFrame([MAE_li_reg, MSE_li_reg, RMSE_li_reg], index=['MAE_li_reg', 'MSE_li_reg', 'RMSE_li_reg'], columns=['Metrics'])"
      ],
      "metadata": {
        "colab": {
          "base_uri": "https://localhost:8080/",
          "height": 143
        },
        "id": "aO4KCC95yFge",
        "outputId": "fc5bcdfd-526c-4eec-906f-bdb2308365f9"
      },
      "execution_count": 33,
      "outputs": [
        {
          "output_type": "execute_result",
          "data": {
            "text/plain": [
              "                  Metrics\n",
              "MAE_li_reg   4.498832e+03\n",
              "MSE_li_reg   4.405978e+07\n",
              "RMSE_li_reg  6.637754e+03"
            ],
            "text/html": [
              "\n",
              "  <div id=\"df-33267356-9954-4fcd-a32d-ef22ee44e466\">\n",
              "    <div class=\"colab-df-container\">\n",
              "      <div>\n",
              "<style scoped>\n",
              "    .dataframe tbody tr th:only-of-type {\n",
              "        vertical-align: middle;\n",
              "    }\n",
              "\n",
              "    .dataframe tbody tr th {\n",
              "        vertical-align: top;\n",
              "    }\n",
              "\n",
              "    .dataframe thead th {\n",
              "        text-align: right;\n",
              "    }\n",
              "</style>\n",
              "<table border=\"1\" class=\"dataframe\">\n",
              "  <thead>\n",
              "    <tr style=\"text-align: right;\">\n",
              "      <th></th>\n",
              "      <th>Metrics</th>\n",
              "    </tr>\n",
              "  </thead>\n",
              "  <tbody>\n",
              "    <tr>\n",
              "      <th>MAE_li_reg</th>\n",
              "      <td>4.498832e+03</td>\n",
              "    </tr>\n",
              "    <tr>\n",
              "      <th>MSE_li_reg</th>\n",
              "      <td>4.405978e+07</td>\n",
              "    </tr>\n",
              "    <tr>\n",
              "      <th>RMSE_li_reg</th>\n",
              "      <td>6.637754e+03</td>\n",
              "    </tr>\n",
              "  </tbody>\n",
              "</table>\n",
              "</div>\n",
              "      <button class=\"colab-df-convert\" onclick=\"convertToInteractive('df-33267356-9954-4fcd-a32d-ef22ee44e466')\"\n",
              "              title=\"Convert this dataframe to an interactive table.\"\n",
              "              style=\"display:none;\">\n",
              "        \n",
              "  <svg xmlns=\"http://www.w3.org/2000/svg\" height=\"24px\"viewBox=\"0 0 24 24\"\n",
              "       width=\"24px\">\n",
              "    <path d=\"M0 0h24v24H0V0z\" fill=\"none\"/>\n",
              "    <path d=\"M18.56 5.44l.94 2.06.94-2.06 2.06-.94-2.06-.94-.94-2.06-.94 2.06-2.06.94zm-11 1L8.5 8.5l.94-2.06 2.06-.94-2.06-.94L8.5 2.5l-.94 2.06-2.06.94zm10 10l.94 2.06.94-2.06 2.06-.94-2.06-.94-.94-2.06-.94 2.06-2.06.94z\"/><path d=\"M17.41 7.96l-1.37-1.37c-.4-.4-.92-.59-1.43-.59-.52 0-1.04.2-1.43.59L10.3 9.45l-7.72 7.72c-.78.78-.78 2.05 0 2.83L4 21.41c.39.39.9.59 1.41.59.51 0 1.02-.2 1.41-.59l7.78-7.78 2.81-2.81c.8-.78.8-2.07 0-2.86zM5.41 20L4 18.59l7.72-7.72 1.47 1.35L5.41 20z\"/>\n",
              "  </svg>\n",
              "      </button>\n",
              "      \n",
              "  <style>\n",
              "    .colab-df-container {\n",
              "      display:flex;\n",
              "      flex-wrap:wrap;\n",
              "      gap: 12px;\n",
              "    }\n",
              "\n",
              "    .colab-df-convert {\n",
              "      background-color: #E8F0FE;\n",
              "      border: none;\n",
              "      border-radius: 50%;\n",
              "      cursor: pointer;\n",
              "      display: none;\n",
              "      fill: #1967D2;\n",
              "      height: 32px;\n",
              "      padding: 0 0 0 0;\n",
              "      width: 32px;\n",
              "    }\n",
              "\n",
              "    .colab-df-convert:hover {\n",
              "      background-color: #E2EBFA;\n",
              "      box-shadow: 0px 1px 2px rgba(60, 64, 67, 0.3), 0px 1px 3px 1px rgba(60, 64, 67, 0.15);\n",
              "      fill: #174EA6;\n",
              "    }\n",
              "\n",
              "    [theme=dark] .colab-df-convert {\n",
              "      background-color: #3B4455;\n",
              "      fill: #D2E3FC;\n",
              "    }\n",
              "\n",
              "    [theme=dark] .colab-df-convert:hover {\n",
              "      background-color: #434B5C;\n",
              "      box-shadow: 0px 1px 3px 1px rgba(0, 0, 0, 0.15);\n",
              "      filter: drop-shadow(0px 1px 2px rgba(0, 0, 0, 0.3));\n",
              "      fill: #FFFFFF;\n",
              "    }\n",
              "  </style>\n",
              "\n",
              "      <script>\n",
              "        const buttonEl =\n",
              "          document.querySelector('#df-33267356-9954-4fcd-a32d-ef22ee44e466 button.colab-df-convert');\n",
              "        buttonEl.style.display =\n",
              "          google.colab.kernel.accessAllowed ? 'block' : 'none';\n",
              "\n",
              "        async function convertToInteractive(key) {\n",
              "          const element = document.querySelector('#df-33267356-9954-4fcd-a32d-ef22ee44e466');\n",
              "          const dataTable =\n",
              "            await google.colab.kernel.invokeFunction('convertToInteractive',\n",
              "                                                     [key], {});\n",
              "          if (!dataTable) return;\n",
              "\n",
              "          const docLinkHtml = 'Like what you see? Visit the ' +\n",
              "            '<a target=\"_blank\" href=https://colab.research.google.com/notebooks/data_table.ipynb>data table notebook</a>'\n",
              "            + ' to learn more about interactive tables.';\n",
              "          element.innerHTML = '';\n",
              "          dataTable['output_type'] = 'display_data';\n",
              "          await google.colab.output.renderOutput(dataTable, element);\n",
              "          const docLink = document.createElement('div');\n",
              "          docLink.innerHTML = docLinkHtml;\n",
              "          element.appendChild(docLink);\n",
              "        }\n",
              "      </script>\n",
              "    </div>\n",
              "  </div>\n",
              "  "
            ]
          },
          "metadata": {},
          "execution_count": 33
        }
      ]
    },
    {
      "cell_type": "code",
      "source": [
        "scores = cross_val_score(linear_reg_model, X_train_scaled, y_train, cv=5)\n",
        "print(np.sqrt(scores))"
      ],
      "metadata": {
        "colab": {
          "base_uri": "https://localhost:8080/"
        },
        "id": "TNkpKX9p18tH",
        "outputId": "b35941bd-87a8-4a37-9714-172c39bb5164"
      },
      "execution_count": 34,
      "outputs": [
        {
          "output_type": "stream",
          "name": "stdout",
          "text": [
            "[0.85283699 0.87893521 0.85254738 0.8984235  0.87874864]\n"
          ]
        }
      ]
    },
    {
      "cell_type": "code",
      "source": [
        "lin = r2_score(y_test, linear_reg_model.predict(X_test_scaled))*100\n",
        "print(lin,'%')"
      ],
      "metadata": {
        "colab": {
          "base_uri": "https://localhost:8080/"
        },
        "id": "Nq-IQtye2I1Q",
        "outputId": "23a59256-bde8-4309-9d76-e03a3d4d587e"
      },
      "execution_count": 35,
      "outputs": [
        {
          "output_type": "stream",
          "name": "stdout",
          "text": [
            "71.31176614970653 %\n"
          ]
        }
      ]
    },
    {
      "cell_type": "markdown",
      "source": [
        "#### **Gradient Boosting Regressor**\n",
        "\n",
        "[**Tomonori Masui**](https://medium.com/@tnmasui) wrote the articles entitled \"[**All You Need to Know about Gradient Boosting Algorithm - Part 1. Regression**](https://towardsdatascience.com/all-you-need-to-know-about-gradient-boosting-algorithm-part-1-regression-2520a34a502)\". He wrote, **gradient boosting** is one of the most popular machine learning algorithms for tabular datasets. It is powerful enough to find any nonlinear relationship between your model target and features and has great usability that can deal with missing values, outliers, and high cardinality categorical values on your features without any special treatment. While you can build barebone gradient boosting trees using some popular libraries such as XGBoost or LightGBM without knowing any details of the algorithm, you still want to know how it works when you start tuning hyper-parameters, customizing the loss functions, etc., to get better quality on your model."
      ],
      "metadata": {
        "id": "ARzFr4OM36fx"
      }
    },
    {
      "cell_type": "code",
      "source": [
        "Gradient_model = GradientBoostingRegressor()\n",
        "Gradient_model.fit(X_train_scaled, y_train)\n",
        "y_pred = Gradient_model.predict(X_test_scaled)\n",
        "y_pred = pd.DataFrame(y_pred)\n",
        "MAE_gradient= metrics.mean_absolute_error(y_test, y_pred)\n",
        "MSE_gradient = metrics.mean_squared_error(y_test, y_pred)\n",
        "RMSE_gradient =np.sqrt(MSE_gradient)\n",
        "pd.DataFrame([MAE_gradient, MSE_gradient, RMSE_gradient], index=['MAE_gradient', 'MSE_gradient', 'RMSE_gradient'], columns=['Metrics'])"
      ],
      "metadata": {
        "colab": {
          "base_uri": "https://localhost:8080/",
          "height": 143
        },
        "id": "n82F7F5v2LH3",
        "outputId": "7392c1ab-57e2-4bf0-e546-75abb5e0e908"
      },
      "execution_count": 36,
      "outputs": [
        {
          "output_type": "execute_result",
          "data": {
            "text/plain": [
              "                    Metrics\n",
              "MAE_gradient   2.771306e+03\n",
              "MSE_gradient   2.678545e+07\n",
              "RMSE_gradient  5.175466e+03"
            ],
            "text/html": [
              "\n",
              "  <div id=\"df-7cbfcbfc-d10e-4bac-8bdd-ea4fae94db00\">\n",
              "    <div class=\"colab-df-container\">\n",
              "      <div>\n",
              "<style scoped>\n",
              "    .dataframe tbody tr th:only-of-type {\n",
              "        vertical-align: middle;\n",
              "    }\n",
              "\n",
              "    .dataframe tbody tr th {\n",
              "        vertical-align: top;\n",
              "    }\n",
              "\n",
              "    .dataframe thead th {\n",
              "        text-align: right;\n",
              "    }\n",
              "</style>\n",
              "<table border=\"1\" class=\"dataframe\">\n",
              "  <thead>\n",
              "    <tr style=\"text-align: right;\">\n",
              "      <th></th>\n",
              "      <th>Metrics</th>\n",
              "    </tr>\n",
              "  </thead>\n",
              "  <tbody>\n",
              "    <tr>\n",
              "      <th>MAE_gradient</th>\n",
              "      <td>2.771306e+03</td>\n",
              "    </tr>\n",
              "    <tr>\n",
              "      <th>MSE_gradient</th>\n",
              "      <td>2.678545e+07</td>\n",
              "    </tr>\n",
              "    <tr>\n",
              "      <th>RMSE_gradient</th>\n",
              "      <td>5.175466e+03</td>\n",
              "    </tr>\n",
              "  </tbody>\n",
              "</table>\n",
              "</div>\n",
              "      <button class=\"colab-df-convert\" onclick=\"convertToInteractive('df-7cbfcbfc-d10e-4bac-8bdd-ea4fae94db00')\"\n",
              "              title=\"Convert this dataframe to an interactive table.\"\n",
              "              style=\"display:none;\">\n",
              "        \n",
              "  <svg xmlns=\"http://www.w3.org/2000/svg\" height=\"24px\"viewBox=\"0 0 24 24\"\n",
              "       width=\"24px\">\n",
              "    <path d=\"M0 0h24v24H0V0z\" fill=\"none\"/>\n",
              "    <path d=\"M18.56 5.44l.94 2.06.94-2.06 2.06-.94-2.06-.94-.94-2.06-.94 2.06-2.06.94zm-11 1L8.5 8.5l.94-2.06 2.06-.94-2.06-.94L8.5 2.5l-.94 2.06-2.06.94zm10 10l.94 2.06.94-2.06 2.06-.94-2.06-.94-.94-2.06-.94 2.06-2.06.94z\"/><path d=\"M17.41 7.96l-1.37-1.37c-.4-.4-.92-.59-1.43-.59-.52 0-1.04.2-1.43.59L10.3 9.45l-7.72 7.72c-.78.78-.78 2.05 0 2.83L4 21.41c.39.39.9.59 1.41.59.51 0 1.02-.2 1.41-.59l7.78-7.78 2.81-2.81c.8-.78.8-2.07 0-2.86zM5.41 20L4 18.59l7.72-7.72 1.47 1.35L5.41 20z\"/>\n",
              "  </svg>\n",
              "      </button>\n",
              "      \n",
              "  <style>\n",
              "    .colab-df-container {\n",
              "      display:flex;\n",
              "      flex-wrap:wrap;\n",
              "      gap: 12px;\n",
              "    }\n",
              "\n",
              "    .colab-df-convert {\n",
              "      background-color: #E8F0FE;\n",
              "      border: none;\n",
              "      border-radius: 50%;\n",
              "      cursor: pointer;\n",
              "      display: none;\n",
              "      fill: #1967D2;\n",
              "      height: 32px;\n",
              "      padding: 0 0 0 0;\n",
              "      width: 32px;\n",
              "    }\n",
              "\n",
              "    .colab-df-convert:hover {\n",
              "      background-color: #E2EBFA;\n",
              "      box-shadow: 0px 1px 2px rgba(60, 64, 67, 0.3), 0px 1px 3px 1px rgba(60, 64, 67, 0.15);\n",
              "      fill: #174EA6;\n",
              "    }\n",
              "\n",
              "    [theme=dark] .colab-df-convert {\n",
              "      background-color: #3B4455;\n",
              "      fill: #D2E3FC;\n",
              "    }\n",
              "\n",
              "    [theme=dark] .colab-df-convert:hover {\n",
              "      background-color: #434B5C;\n",
              "      box-shadow: 0px 1px 3px 1px rgba(0, 0, 0, 0.15);\n",
              "      filter: drop-shadow(0px 1px 2px rgba(0, 0, 0, 0.3));\n",
              "      fill: #FFFFFF;\n",
              "    }\n",
              "  </style>\n",
              "\n",
              "      <script>\n",
              "        const buttonEl =\n",
              "          document.querySelector('#df-7cbfcbfc-d10e-4bac-8bdd-ea4fae94db00 button.colab-df-convert');\n",
              "        buttonEl.style.display =\n",
              "          google.colab.kernel.accessAllowed ? 'block' : 'none';\n",
              "\n",
              "        async function convertToInteractive(key) {\n",
              "          const element = document.querySelector('#df-7cbfcbfc-d10e-4bac-8bdd-ea4fae94db00');\n",
              "          const dataTable =\n",
              "            await google.colab.kernel.invokeFunction('convertToInteractive',\n",
              "                                                     [key], {});\n",
              "          if (!dataTable) return;\n",
              "\n",
              "          const docLinkHtml = 'Like what you see? Visit the ' +\n",
              "            '<a target=\"_blank\" href=https://colab.research.google.com/notebooks/data_table.ipynb>data table notebook</a>'\n",
              "            + ' to learn more about interactive tables.';\n",
              "          element.innerHTML = '';\n",
              "          dataTable['output_type'] = 'display_data';\n",
              "          await google.colab.output.renderOutput(dataTable, element);\n",
              "          const docLink = document.createElement('div');\n",
              "          docLink.innerHTML = docLinkHtml;\n",
              "          element.appendChild(docLink);\n",
              "        }\n",
              "      </script>\n",
              "    </div>\n",
              "  </div>\n",
              "  "
            ]
          },
          "metadata": {},
          "execution_count": 36
        }
      ]
    },
    {
      "cell_type": "code",
      "source": [
        "scores = cross_val_score(Gradient_model, X_train_scaled, y_train, cv=5)\n",
        "print(np.sqrt(scores))"
      ],
      "metadata": {
        "colab": {
          "base_uri": "https://localhost:8080/"
        },
        "id": "asajYN_X5gdP",
        "outputId": "b4a1012d-9cdd-4982-c7dc-96880454ee3e"
      },
      "execution_count": 37,
      "outputs": [
        {
          "output_type": "stream",
          "name": "stdout",
          "text": [
            "[0.91656996 0.93131301 0.91581192 0.94403428 0.94765985]\n"
          ]
        }
      ]
    },
    {
      "cell_type": "code",
      "source": [
        "grads = r2_score(y_test, Gradient_model.predict(X_test_scaled))*100\n",
        "print(grads,'%')"
      ],
      "metadata": {
        "colab": {
          "base_uri": "https://localhost:8080/"
        },
        "id": "BcjFcglE5jbG",
        "outputId": "e567c74d-411a-4929-b695-825c3c80c84b"
      },
      "execution_count": 38,
      "outputs": [
        {
          "output_type": "stream",
          "name": "stdout",
          "text": [
            "82.55943753706315 %\n"
          ]
        }
      ]
    },
    {
      "cell_type": "markdown",
      "source": [
        "#### **XG-Boost Regressor**\n",
        "\n",
        "[**Vishal Morde**](https://medium.com/@vishalmorde) and [**Venkat Setty**](https://medium.com/@setgeti) have written about XGBoost with the title of \"[XGBoost Algorithm: Long May She Reign!](https://towardsdatascience.com/https-medium-com-vishalmorde-xgboost-algorithm-long-she-may-rein-edd9f99be63d)\".\n",
        "\n",
        "XGBoost is a decision-tree-based ensemble Machine Learning algorithm that uses a gradient boosting framework. In prediction problems involving unstructured data (images, text, etc.) artificial neural networks tend to outperform all other algorithms or frameworks. However, when it comes to small-to-medium structured/tabular data, decision tree based algorithms are considered best-in-class right now."
      ],
      "metadata": {
        "id": "fCJIjld36f9e"
      }
    },
    {
      "cell_type": "code",
      "source": [
        "XGB_model =XGBRegressor()\n",
        "XGB_model.fit(X_train_scaled, y_train)\n",
        "y_pred = XGB_model.predict(X_test_scaled)\n",
        "y_pred = pd.DataFrame(y_pred)\n",
        "MAE_XGB= metrics.mean_absolute_error(y_test, y_pred)\n",
        "MSE_XGB = metrics.mean_squared_error(y_test, y_pred)\n",
        "RMSE_XGB =np.sqrt(MSE_XGB)\n",
        "pd.DataFrame([MAE_XGB, MSE_XGB, RMSE_XGB], index=['MAE_XGB', 'MSE_XGB', 'RMSE_XGB'], columns=['Metrics'])"
      ],
      "metadata": {
        "colab": {
          "base_uri": "https://localhost:8080/",
          "height": 181
        },
        "id": "XmXmei5v5kyk",
        "outputId": "c57ff872-d50a-4289-fca3-7db278fa6601"
      },
      "execution_count": 39,
      "outputs": [
        {
          "output_type": "stream",
          "name": "stdout",
          "text": [
            "[06:43:44] WARNING: /workspace/src/objective/regression_obj.cu:152: reg:linear is now deprecated in favor of reg:squarederror.\n"
          ]
        },
        {
          "output_type": "execute_result",
          "data": {
            "text/plain": [
              "               Metrics\n",
              "MAE_XGB   2.754042e+03\n",
              "MSE_XGB   2.679448e+07\n",
              "RMSE_XGB  5.176338e+03"
            ],
            "text/html": [
              "\n",
              "  <div id=\"df-5c89857e-3314-4651-aa2b-9e38619cb5b1\">\n",
              "    <div class=\"colab-df-container\">\n",
              "      <div>\n",
              "<style scoped>\n",
              "    .dataframe tbody tr th:only-of-type {\n",
              "        vertical-align: middle;\n",
              "    }\n",
              "\n",
              "    .dataframe tbody tr th {\n",
              "        vertical-align: top;\n",
              "    }\n",
              "\n",
              "    .dataframe thead th {\n",
              "        text-align: right;\n",
              "    }\n",
              "</style>\n",
              "<table border=\"1\" class=\"dataframe\">\n",
              "  <thead>\n",
              "    <tr style=\"text-align: right;\">\n",
              "      <th></th>\n",
              "      <th>Metrics</th>\n",
              "    </tr>\n",
              "  </thead>\n",
              "  <tbody>\n",
              "    <tr>\n",
              "      <th>MAE_XGB</th>\n",
              "      <td>2.754042e+03</td>\n",
              "    </tr>\n",
              "    <tr>\n",
              "      <th>MSE_XGB</th>\n",
              "      <td>2.679448e+07</td>\n",
              "    </tr>\n",
              "    <tr>\n",
              "      <th>RMSE_XGB</th>\n",
              "      <td>5.176338e+03</td>\n",
              "    </tr>\n",
              "  </tbody>\n",
              "</table>\n",
              "</div>\n",
              "      <button class=\"colab-df-convert\" onclick=\"convertToInteractive('df-5c89857e-3314-4651-aa2b-9e38619cb5b1')\"\n",
              "              title=\"Convert this dataframe to an interactive table.\"\n",
              "              style=\"display:none;\">\n",
              "        \n",
              "  <svg xmlns=\"http://www.w3.org/2000/svg\" height=\"24px\"viewBox=\"0 0 24 24\"\n",
              "       width=\"24px\">\n",
              "    <path d=\"M0 0h24v24H0V0z\" fill=\"none\"/>\n",
              "    <path d=\"M18.56 5.44l.94 2.06.94-2.06 2.06-.94-2.06-.94-.94-2.06-.94 2.06-2.06.94zm-11 1L8.5 8.5l.94-2.06 2.06-.94-2.06-.94L8.5 2.5l-.94 2.06-2.06.94zm10 10l.94 2.06.94-2.06 2.06-.94-2.06-.94-.94-2.06-.94 2.06-2.06.94z\"/><path d=\"M17.41 7.96l-1.37-1.37c-.4-.4-.92-.59-1.43-.59-.52 0-1.04.2-1.43.59L10.3 9.45l-7.72 7.72c-.78.78-.78 2.05 0 2.83L4 21.41c.39.39.9.59 1.41.59.51 0 1.02-.2 1.41-.59l7.78-7.78 2.81-2.81c.8-.78.8-2.07 0-2.86zM5.41 20L4 18.59l7.72-7.72 1.47 1.35L5.41 20z\"/>\n",
              "  </svg>\n",
              "      </button>\n",
              "      \n",
              "  <style>\n",
              "    .colab-df-container {\n",
              "      display:flex;\n",
              "      flex-wrap:wrap;\n",
              "      gap: 12px;\n",
              "    }\n",
              "\n",
              "    .colab-df-convert {\n",
              "      background-color: #E8F0FE;\n",
              "      border: none;\n",
              "      border-radius: 50%;\n",
              "      cursor: pointer;\n",
              "      display: none;\n",
              "      fill: #1967D2;\n",
              "      height: 32px;\n",
              "      padding: 0 0 0 0;\n",
              "      width: 32px;\n",
              "    }\n",
              "\n",
              "    .colab-df-convert:hover {\n",
              "      background-color: #E2EBFA;\n",
              "      box-shadow: 0px 1px 2px rgba(60, 64, 67, 0.3), 0px 1px 3px 1px rgba(60, 64, 67, 0.15);\n",
              "      fill: #174EA6;\n",
              "    }\n",
              "\n",
              "    [theme=dark] .colab-df-convert {\n",
              "      background-color: #3B4455;\n",
              "      fill: #D2E3FC;\n",
              "    }\n",
              "\n",
              "    [theme=dark] .colab-df-convert:hover {\n",
              "      background-color: #434B5C;\n",
              "      box-shadow: 0px 1px 3px 1px rgba(0, 0, 0, 0.15);\n",
              "      filter: drop-shadow(0px 1px 2px rgba(0, 0, 0, 0.3));\n",
              "      fill: #FFFFFF;\n",
              "    }\n",
              "  </style>\n",
              "\n",
              "      <script>\n",
              "        const buttonEl =\n",
              "          document.querySelector('#df-5c89857e-3314-4651-aa2b-9e38619cb5b1 button.colab-df-convert');\n",
              "        buttonEl.style.display =\n",
              "          google.colab.kernel.accessAllowed ? 'block' : 'none';\n",
              "\n",
              "        async function convertToInteractive(key) {\n",
              "          const element = document.querySelector('#df-5c89857e-3314-4651-aa2b-9e38619cb5b1');\n",
              "          const dataTable =\n",
              "            await google.colab.kernel.invokeFunction('convertToInteractive',\n",
              "                                                     [key], {});\n",
              "          if (!dataTable) return;\n",
              "\n",
              "          const docLinkHtml = 'Like what you see? Visit the ' +\n",
              "            '<a target=\"_blank\" href=https://colab.research.google.com/notebooks/data_table.ipynb>data table notebook</a>'\n",
              "            + ' to learn more about interactive tables.';\n",
              "          element.innerHTML = '';\n",
              "          dataTable['output_type'] = 'display_data';\n",
              "          await google.colab.output.renderOutput(dataTable, element);\n",
              "          const docLink = document.createElement('div');\n",
              "          docLink.innerHTML = docLinkHtml;\n",
              "          element.appendChild(docLink);\n",
              "        }\n",
              "      </script>\n",
              "    </div>\n",
              "  </div>\n",
              "  "
            ]
          },
          "metadata": {},
          "execution_count": 39
        }
      ]
    },
    {
      "cell_type": "code",
      "source": [
        "scores = cross_val_score(XGB_model, X_train_scaled, y_train, cv=5)\n",
        "print(np.sqrt(scores))"
      ],
      "metadata": {
        "colab": {
          "base_uri": "https://localhost:8080/"
        },
        "id": "3fWK47AV7BDe",
        "outputId": "84fcaf20-4b5d-47c8-96ca-94b30626120d"
      },
      "execution_count": 40,
      "outputs": [
        {
          "output_type": "stream",
          "name": "stdout",
          "text": [
            "[06:43:47] WARNING: /workspace/src/objective/regression_obj.cu:152: reg:linear is now deprecated in favor of reg:squarederror.\n",
            "[06:43:47] WARNING: /workspace/src/objective/regression_obj.cu:152: reg:linear is now deprecated in favor of reg:squarederror.\n",
            "[06:43:47] WARNING: /workspace/src/objective/regression_obj.cu:152: reg:linear is now deprecated in favor of reg:squarederror.\n",
            "[06:43:47] WARNING: /workspace/src/objective/regression_obj.cu:152: reg:linear is now deprecated in favor of reg:squarederror.\n",
            "[06:43:47] WARNING: /workspace/src/objective/regression_obj.cu:152: reg:linear is now deprecated in favor of reg:squarederror.\n",
            "[0.91868847 0.93328843 0.91519668 0.94602419 0.94718096]\n"
          ]
        }
      ]
    },
    {
      "cell_type": "code",
      "source": [
        "xgbs = r2_score(y_test, XGB_model.predict(X_test_scaled))*100\n",
        "print(xgbs,'%')"
      ],
      "metadata": {
        "colab": {
          "base_uri": "https://localhost:8080/"
        },
        "id": "XRW954Jy7CsC",
        "outputId": "eabc63c6-6a07-4151-faba-10cabbb2d12b"
      },
      "execution_count": 41,
      "outputs": [
        {
          "output_type": "stream",
          "name": "stdout",
          "text": [
            "82.55356181373574 %\n"
          ]
        }
      ]
    },
    {
      "cell_type": "markdown",
      "source": [
        "#### **Decision Tree Regression**"
      ],
      "metadata": {
        "id": "9o1C0PErsTvL"
      }
    },
    {
      "cell_type": "code",
      "source": [
        "tree_reg_model =DecisionTreeRegressor()\n",
        "tree_reg_model.fit(X_train_scaled, y_train)\n",
        "y_pred = tree_reg_model.predict(X_test_scaled)\n",
        "y_pred = pd.DataFrame(y_pred)\n",
        "MAE_tree_reg= metrics.mean_absolute_error(y_test, y_pred)\n",
        "MSE_tree_reg = metrics.mean_squared_error(y_test, y_pred)\n",
        "RMSE_tree_reg =np.sqrt(MSE_tree_reg)\n",
        "pd.DataFrame([MAE_tree_reg, MSE_tree_reg, RMSE_tree_reg], index=['MAE_tree_reg', 'MSE_tree_reg', 'RMSE_tree_reg'], columns=['Metrics'])"
      ],
      "metadata": {
        "colab": {
          "base_uri": "https://localhost:8080/",
          "height": 143
        },
        "id": "LQ0gxC3j7Ecp",
        "outputId": "a43b5a36-4b01-45c4-9c7c-12a04837f89c"
      },
      "execution_count": 42,
      "outputs": [
        {
          "output_type": "execute_result",
          "data": {
            "text/plain": [
              "                    Metrics\n",
              "MAE_tree_reg   3.188942e+03\n",
              "MSE_tree_reg   4.410746e+07\n",
              "RMSE_tree_reg  6.641344e+03"
            ],
            "text/html": [
              "\n",
              "  <div id=\"df-b7a6516f-6b2e-4d81-ac4a-a9d91c03b25f\">\n",
              "    <div class=\"colab-df-container\">\n",
              "      <div>\n",
              "<style scoped>\n",
              "    .dataframe tbody tr th:only-of-type {\n",
              "        vertical-align: middle;\n",
              "    }\n",
              "\n",
              "    .dataframe tbody tr th {\n",
              "        vertical-align: top;\n",
              "    }\n",
              "\n",
              "    .dataframe thead th {\n",
              "        text-align: right;\n",
              "    }\n",
              "</style>\n",
              "<table border=\"1\" class=\"dataframe\">\n",
              "  <thead>\n",
              "    <tr style=\"text-align: right;\">\n",
              "      <th></th>\n",
              "      <th>Metrics</th>\n",
              "    </tr>\n",
              "  </thead>\n",
              "  <tbody>\n",
              "    <tr>\n",
              "      <th>MAE_tree_reg</th>\n",
              "      <td>3.188942e+03</td>\n",
              "    </tr>\n",
              "    <tr>\n",
              "      <th>MSE_tree_reg</th>\n",
              "      <td>4.410746e+07</td>\n",
              "    </tr>\n",
              "    <tr>\n",
              "      <th>RMSE_tree_reg</th>\n",
              "      <td>6.641344e+03</td>\n",
              "    </tr>\n",
              "  </tbody>\n",
              "</table>\n",
              "</div>\n",
              "      <button class=\"colab-df-convert\" onclick=\"convertToInteractive('df-b7a6516f-6b2e-4d81-ac4a-a9d91c03b25f')\"\n",
              "              title=\"Convert this dataframe to an interactive table.\"\n",
              "              style=\"display:none;\">\n",
              "        \n",
              "  <svg xmlns=\"http://www.w3.org/2000/svg\" height=\"24px\"viewBox=\"0 0 24 24\"\n",
              "       width=\"24px\">\n",
              "    <path d=\"M0 0h24v24H0V0z\" fill=\"none\"/>\n",
              "    <path d=\"M18.56 5.44l.94 2.06.94-2.06 2.06-.94-2.06-.94-.94-2.06-.94 2.06-2.06.94zm-11 1L8.5 8.5l.94-2.06 2.06-.94-2.06-.94L8.5 2.5l-.94 2.06-2.06.94zm10 10l.94 2.06.94-2.06 2.06-.94-2.06-.94-.94-2.06-.94 2.06-2.06.94z\"/><path d=\"M17.41 7.96l-1.37-1.37c-.4-.4-.92-.59-1.43-.59-.52 0-1.04.2-1.43.59L10.3 9.45l-7.72 7.72c-.78.78-.78 2.05 0 2.83L4 21.41c.39.39.9.59 1.41.59.51 0 1.02-.2 1.41-.59l7.78-7.78 2.81-2.81c.8-.78.8-2.07 0-2.86zM5.41 20L4 18.59l7.72-7.72 1.47 1.35L5.41 20z\"/>\n",
              "  </svg>\n",
              "      </button>\n",
              "      \n",
              "  <style>\n",
              "    .colab-df-container {\n",
              "      display:flex;\n",
              "      flex-wrap:wrap;\n",
              "      gap: 12px;\n",
              "    }\n",
              "\n",
              "    .colab-df-convert {\n",
              "      background-color: #E8F0FE;\n",
              "      border: none;\n",
              "      border-radius: 50%;\n",
              "      cursor: pointer;\n",
              "      display: none;\n",
              "      fill: #1967D2;\n",
              "      height: 32px;\n",
              "      padding: 0 0 0 0;\n",
              "      width: 32px;\n",
              "    }\n",
              "\n",
              "    .colab-df-convert:hover {\n",
              "      background-color: #E2EBFA;\n",
              "      box-shadow: 0px 1px 2px rgba(60, 64, 67, 0.3), 0px 1px 3px 1px rgba(60, 64, 67, 0.15);\n",
              "      fill: #174EA6;\n",
              "    }\n",
              "\n",
              "    [theme=dark] .colab-df-convert {\n",
              "      background-color: #3B4455;\n",
              "      fill: #D2E3FC;\n",
              "    }\n",
              "\n",
              "    [theme=dark] .colab-df-convert:hover {\n",
              "      background-color: #434B5C;\n",
              "      box-shadow: 0px 1px 3px 1px rgba(0, 0, 0, 0.15);\n",
              "      filter: drop-shadow(0px 1px 2px rgba(0, 0, 0, 0.3));\n",
              "      fill: #FFFFFF;\n",
              "    }\n",
              "  </style>\n",
              "\n",
              "      <script>\n",
              "        const buttonEl =\n",
              "          document.querySelector('#df-b7a6516f-6b2e-4d81-ac4a-a9d91c03b25f button.colab-df-convert');\n",
              "        buttonEl.style.display =\n",
              "          google.colab.kernel.accessAllowed ? 'block' : 'none';\n",
              "\n",
              "        async function convertToInteractive(key) {\n",
              "          const element = document.querySelector('#df-b7a6516f-6b2e-4d81-ac4a-a9d91c03b25f');\n",
              "          const dataTable =\n",
              "            await google.colab.kernel.invokeFunction('convertToInteractive',\n",
              "                                                     [key], {});\n",
              "          if (!dataTable) return;\n",
              "\n",
              "          const docLinkHtml = 'Like what you see? Visit the ' +\n",
              "            '<a target=\"_blank\" href=https://colab.research.google.com/notebooks/data_table.ipynb>data table notebook</a>'\n",
              "            + ' to learn more about interactive tables.';\n",
              "          element.innerHTML = '';\n",
              "          dataTable['output_type'] = 'display_data';\n",
              "          await google.colab.output.renderOutput(dataTable, element);\n",
              "          const docLink = document.createElement('div');\n",
              "          docLink.innerHTML = docLinkHtml;\n",
              "          element.appendChild(docLink);\n",
              "        }\n",
              "      </script>\n",
              "    </div>\n",
              "  </div>\n",
              "  "
            ]
          },
          "metadata": {},
          "execution_count": 42
        }
      ]
    },
    {
      "cell_type": "code",
      "source": [
        "scores = cross_val_score(tree_reg_model, X_train_scaled, y_train, cv=5)\n",
        "print(np.sqrt(scores))"
      ],
      "metadata": {
        "colab": {
          "base_uri": "https://localhost:8080/"
        },
        "id": "x4Xg4XqJs08z",
        "outputId": "1db68b09-8f1c-4fcc-a8f8-7697cbb1f742"
      },
      "execution_count": 43,
      "outputs": [
        {
          "output_type": "stream",
          "name": "stdout",
          "text": [
            "[0.87840396 0.83055823 0.85989143 0.8362404  0.84832917]\n"
          ]
        }
      ]
    },
    {
      "cell_type": "code",
      "source": [
        "trees = r2_score(y_test, tree_reg_model.predict(X_test_scaled))*100\n",
        "print(trees,'%')"
      ],
      "metadata": {
        "colab": {
          "base_uri": "https://localhost:8080/"
        },
        "id": "88Y5MQMNs4nt",
        "outputId": "0f94c075-df74-423c-8491-01a4472af93b"
      },
      "execution_count": 44,
      "outputs": [
        {
          "output_type": "stream",
          "name": "stdout",
          "text": [
            "71.28072173416923 %\n"
          ]
        }
      ]
    },
    {
      "cell_type": "markdown",
      "source": [
        "#### **Random Forest Regression**\n",
        "\n",
        "[IBM, inc.]((https://www.ibm.com/docs/en/spss-modeler/SaaS?topic=nodes-random-forest-node#:~:text=Random%20Forest%C2%A9%20is%20an,sample)%20from%20the%20training%20set.) released on their learn cloud page about Random Forest.\n",
        "\n",
        "**Random forest** is a commonly-used machine learning algorithm trademarked by Leo Breiman and Adele Cutler, which combines the output of multiple decision trees to reach a single result. Its ease of use and flexibility have fueled its adoption, as it handles both classification and regression problems."
      ],
      "metadata": {
        "id": "5aSHOU-vtJ21"
      }
    },
    {
      "cell_type": "code",
      "source": [
        "forest_reg_model =RandomForestRegressor()\n",
        "forest_reg_model.fit(X_train_scaled, y_train)\n",
        "y_pred = forest_reg_model.predict(X_test_scaled)\n",
        "y_pred = pd.DataFrame(y_pred)\n",
        "MAE_forest_reg= metrics.mean_absolute_error(y_test, y_pred)\n",
        "MSE_forest_reg = metrics.mean_squared_error(y_test, y_pred)\n",
        "RMSE_forest_reg =np.sqrt(MSE_forest_reg)\n",
        "pd.DataFrame([MAE_forest_reg, MSE_forest_reg, RMSE_forest_reg], index=['MAE_forest_reg', 'MSE_forest_reg', 'RMSE_forest_reg'], columns=['Metrics'])"
      ],
      "metadata": {
        "colab": {
          "base_uri": "https://localhost:8080/",
          "height": 143
        },
        "id": "9lBO7OlUs7Pb",
        "outputId": "cd89cbf0-7884-44bc-f3e9-708cf2c19b23"
      },
      "execution_count": 45,
      "outputs": [
        {
          "output_type": "execute_result",
          "data": {
            "text/plain": [
              "                      Metrics\n",
              "MAE_forest_reg   2.973138e+03\n",
              "MSE_forest_reg   2.875117e+07\n",
              "RMSE_forest_reg  5.362012e+03"
            ],
            "text/html": [
              "\n",
              "  <div id=\"df-53f1001e-2a47-4df8-94ab-5260f234d7b0\">\n",
              "    <div class=\"colab-df-container\">\n",
              "      <div>\n",
              "<style scoped>\n",
              "    .dataframe tbody tr th:only-of-type {\n",
              "        vertical-align: middle;\n",
              "    }\n",
              "\n",
              "    .dataframe tbody tr th {\n",
              "        vertical-align: top;\n",
              "    }\n",
              "\n",
              "    .dataframe thead th {\n",
              "        text-align: right;\n",
              "    }\n",
              "</style>\n",
              "<table border=\"1\" class=\"dataframe\">\n",
              "  <thead>\n",
              "    <tr style=\"text-align: right;\">\n",
              "      <th></th>\n",
              "      <th>Metrics</th>\n",
              "    </tr>\n",
              "  </thead>\n",
              "  <tbody>\n",
              "    <tr>\n",
              "      <th>MAE_forest_reg</th>\n",
              "      <td>2.973138e+03</td>\n",
              "    </tr>\n",
              "    <tr>\n",
              "      <th>MSE_forest_reg</th>\n",
              "      <td>2.875117e+07</td>\n",
              "    </tr>\n",
              "    <tr>\n",
              "      <th>RMSE_forest_reg</th>\n",
              "      <td>5.362012e+03</td>\n",
              "    </tr>\n",
              "  </tbody>\n",
              "</table>\n",
              "</div>\n",
              "      <button class=\"colab-df-convert\" onclick=\"convertToInteractive('df-53f1001e-2a47-4df8-94ab-5260f234d7b0')\"\n",
              "              title=\"Convert this dataframe to an interactive table.\"\n",
              "              style=\"display:none;\">\n",
              "        \n",
              "  <svg xmlns=\"http://www.w3.org/2000/svg\" height=\"24px\"viewBox=\"0 0 24 24\"\n",
              "       width=\"24px\">\n",
              "    <path d=\"M0 0h24v24H0V0z\" fill=\"none\"/>\n",
              "    <path d=\"M18.56 5.44l.94 2.06.94-2.06 2.06-.94-2.06-.94-.94-2.06-.94 2.06-2.06.94zm-11 1L8.5 8.5l.94-2.06 2.06-.94-2.06-.94L8.5 2.5l-.94 2.06-2.06.94zm10 10l.94 2.06.94-2.06 2.06-.94-2.06-.94-.94-2.06-.94 2.06-2.06.94z\"/><path d=\"M17.41 7.96l-1.37-1.37c-.4-.4-.92-.59-1.43-.59-.52 0-1.04.2-1.43.59L10.3 9.45l-7.72 7.72c-.78.78-.78 2.05 0 2.83L4 21.41c.39.39.9.59 1.41.59.51 0 1.02-.2 1.41-.59l7.78-7.78 2.81-2.81c.8-.78.8-2.07 0-2.86zM5.41 20L4 18.59l7.72-7.72 1.47 1.35L5.41 20z\"/>\n",
              "  </svg>\n",
              "      </button>\n",
              "      \n",
              "  <style>\n",
              "    .colab-df-container {\n",
              "      display:flex;\n",
              "      flex-wrap:wrap;\n",
              "      gap: 12px;\n",
              "    }\n",
              "\n",
              "    .colab-df-convert {\n",
              "      background-color: #E8F0FE;\n",
              "      border: none;\n",
              "      border-radius: 50%;\n",
              "      cursor: pointer;\n",
              "      display: none;\n",
              "      fill: #1967D2;\n",
              "      height: 32px;\n",
              "      padding: 0 0 0 0;\n",
              "      width: 32px;\n",
              "    }\n",
              "\n",
              "    .colab-df-convert:hover {\n",
              "      background-color: #E2EBFA;\n",
              "      box-shadow: 0px 1px 2px rgba(60, 64, 67, 0.3), 0px 1px 3px 1px rgba(60, 64, 67, 0.15);\n",
              "      fill: #174EA6;\n",
              "    }\n",
              "\n",
              "    [theme=dark] .colab-df-convert {\n",
              "      background-color: #3B4455;\n",
              "      fill: #D2E3FC;\n",
              "    }\n",
              "\n",
              "    [theme=dark] .colab-df-convert:hover {\n",
              "      background-color: #434B5C;\n",
              "      box-shadow: 0px 1px 3px 1px rgba(0, 0, 0, 0.15);\n",
              "      filter: drop-shadow(0px 1px 2px rgba(0, 0, 0, 0.3));\n",
              "      fill: #FFFFFF;\n",
              "    }\n",
              "  </style>\n",
              "\n",
              "      <script>\n",
              "        const buttonEl =\n",
              "          document.querySelector('#df-53f1001e-2a47-4df8-94ab-5260f234d7b0 button.colab-df-convert');\n",
              "        buttonEl.style.display =\n",
              "          google.colab.kernel.accessAllowed ? 'block' : 'none';\n",
              "\n",
              "        async function convertToInteractive(key) {\n",
              "          const element = document.querySelector('#df-53f1001e-2a47-4df8-94ab-5260f234d7b0');\n",
              "          const dataTable =\n",
              "            await google.colab.kernel.invokeFunction('convertToInteractive',\n",
              "                                                     [key], {});\n",
              "          if (!dataTable) return;\n",
              "\n",
              "          const docLinkHtml = 'Like what you see? Visit the ' +\n",
              "            '<a target=\"_blank\" href=https://colab.research.google.com/notebooks/data_table.ipynb>data table notebook</a>'\n",
              "            + ' to learn more about interactive tables.';\n",
              "          element.innerHTML = '';\n",
              "          dataTable['output_type'] = 'display_data';\n",
              "          await google.colab.output.renderOutput(dataTable, element);\n",
              "          const docLink = document.createElement('div');\n",
              "          docLink.innerHTML = docLinkHtml;\n",
              "          element.appendChild(docLink);\n",
              "        }\n",
              "      </script>\n",
              "    </div>\n",
              "  </div>\n",
              "  "
            ]
          },
          "metadata": {},
          "execution_count": 45
        }
      ]
    },
    {
      "cell_type": "code",
      "source": [
        "scores = cross_val_score(forest_reg_model, X_train_scaled, y_train, cv=5)\n",
        "print(np.sqrt(scores))"
      ],
      "metadata": {
        "colab": {
          "base_uri": "https://localhost:8080/"
        },
        "id": "dpE0sKxPuEj3",
        "outputId": "3c0672d4-9762-4fdd-adad-dc26e23d0895"
      },
      "execution_count": 46,
      "outputs": [
        {
          "output_type": "stream",
          "name": "stdout",
          "text": [
            "[0.91462569 0.92831106 0.91436086 0.93147428 0.92723097]\n"
          ]
        }
      ]
    },
    {
      "cell_type": "code",
      "source": [
        "ranfors = r2_score(y_test, forest_reg_model.predict(X_test_scaled))*100\n",
        "print(ranfors,'%')"
      ],
      "metadata": {
        "colab": {
          "base_uri": "https://localhost:8080/"
        },
        "id": "mP8IywpcuJQ_",
        "outputId": "696208ea-bebf-49a0-ee9b-110bcd96d358"
      },
      "execution_count": 47,
      "outputs": [
        {
          "output_type": "stream",
          "name": "stdout",
          "text": [
            "81.27951585850664 %\n"
          ]
        }
      ]
    },
    {
      "cell_type": "markdown",
      "source": [
        "#### **Polynomial Regression**\n",
        "\n",
        "In the publication of [**Analytics Vidhya**](https://medium.com/analytics-vidhya), [**Abhigyan**](https://medium.com/analytics-vidhya/understanding-polynomial-regression-5ac25b970e18) presents a literature review on Polynomial Regression.\n",
        "\n",
        "**Polynomial Regression** is a form of regression analysis in which the relationship between the independent variables and dependent variables are modeled in the nth degree polynomial. **Polynomial Regression** is a special case of Linear Regression where we fit the polynomial equation on the data with a curvilinear relationship between the dependent and independent variables."
      ],
      "metadata": {
        "id": "s5Va4MTNBhAg"
      }
    },
    {
      "cell_type": "code",
      "source": [
        "poly_reg_model=PolynomialFeatures(degree = 4)\n",
        "X_poly = poly_reg_model.fit_transform(X_train_scaled)\n",
        "poly_reg_model.fit(X_poly, y_train)\n",
        "linpoly_reg_model = LinearRegression()\n",
        "linpoly_reg_model.fit(X_poly, y_train)\n",
        "\n",
        "# Define X_test_scaled into Polynomial\n",
        "X_test_scaled_poly = poly_reg_model.fit_transform(X_test_scaled)\n",
        "\n",
        "# Prediction\n",
        "y_pred = linpoly_reg_model.predict(X_test_scaled_poly)\n",
        "y_pred = pd.DataFrame(y_pred)\n",
        "MAE_poly_reg= metrics.mean_absolute_error(y_test, y_pred)\n",
        "MSE_poly_reg = metrics.mean_squared_error(y_test, y_pred)\n",
        "RMSE_poly_reg =np.sqrt(MSE_poly_reg)\n",
        "pd.DataFrame([MAE_poly_reg, MSE_poly_reg, RMSE_poly_reg], index=['MAE_poly_reg', 'MSE_poly_reg', 'RMSE_poly_reg'], columns=['Metrics'])"
      ],
      "metadata": {
        "colab": {
          "base_uri": "https://localhost:8080/",
          "height": 143
        },
        "id": "ILncR4hvTJ7a",
        "outputId": "d602a860-9ca6-41b5-b0fd-58aa8b99835a"
      },
      "execution_count": 48,
      "outputs": [
        {
          "output_type": "execute_result",
          "data": {
            "text/plain": [
              "                    Metrics\n",
              "MAE_poly_reg   3.653481e+03\n",
              "MSE_poly_reg   3.865497e+07\n",
              "RMSE_poly_reg  6.217312e+03"
            ],
            "text/html": [
              "\n",
              "  <div id=\"df-4586ca23-90f0-4497-b59b-202f701adf59\">\n",
              "    <div class=\"colab-df-container\">\n",
              "      <div>\n",
              "<style scoped>\n",
              "    .dataframe tbody tr th:only-of-type {\n",
              "        vertical-align: middle;\n",
              "    }\n",
              "\n",
              "    .dataframe tbody tr th {\n",
              "        vertical-align: top;\n",
              "    }\n",
              "\n",
              "    .dataframe thead th {\n",
              "        text-align: right;\n",
              "    }\n",
              "</style>\n",
              "<table border=\"1\" class=\"dataframe\">\n",
              "  <thead>\n",
              "    <tr style=\"text-align: right;\">\n",
              "      <th></th>\n",
              "      <th>Metrics</th>\n",
              "    </tr>\n",
              "  </thead>\n",
              "  <tbody>\n",
              "    <tr>\n",
              "      <th>MAE_poly_reg</th>\n",
              "      <td>3.653481e+03</td>\n",
              "    </tr>\n",
              "    <tr>\n",
              "      <th>MSE_poly_reg</th>\n",
              "      <td>3.865497e+07</td>\n",
              "    </tr>\n",
              "    <tr>\n",
              "      <th>RMSE_poly_reg</th>\n",
              "      <td>6.217312e+03</td>\n",
              "    </tr>\n",
              "  </tbody>\n",
              "</table>\n",
              "</div>\n",
              "      <button class=\"colab-df-convert\" onclick=\"convertToInteractive('df-4586ca23-90f0-4497-b59b-202f701adf59')\"\n",
              "              title=\"Convert this dataframe to an interactive table.\"\n",
              "              style=\"display:none;\">\n",
              "        \n",
              "  <svg xmlns=\"http://www.w3.org/2000/svg\" height=\"24px\"viewBox=\"0 0 24 24\"\n",
              "       width=\"24px\">\n",
              "    <path d=\"M0 0h24v24H0V0z\" fill=\"none\"/>\n",
              "    <path d=\"M18.56 5.44l.94 2.06.94-2.06 2.06-.94-2.06-.94-.94-2.06-.94 2.06-2.06.94zm-11 1L8.5 8.5l.94-2.06 2.06-.94-2.06-.94L8.5 2.5l-.94 2.06-2.06.94zm10 10l.94 2.06.94-2.06 2.06-.94-2.06-.94-.94-2.06-.94 2.06-2.06.94z\"/><path d=\"M17.41 7.96l-1.37-1.37c-.4-.4-.92-.59-1.43-.59-.52 0-1.04.2-1.43.59L10.3 9.45l-7.72 7.72c-.78.78-.78 2.05 0 2.83L4 21.41c.39.39.9.59 1.41.59.51 0 1.02-.2 1.41-.59l7.78-7.78 2.81-2.81c.8-.78.8-2.07 0-2.86zM5.41 20L4 18.59l7.72-7.72 1.47 1.35L5.41 20z\"/>\n",
              "  </svg>\n",
              "      </button>\n",
              "      \n",
              "  <style>\n",
              "    .colab-df-container {\n",
              "      display:flex;\n",
              "      flex-wrap:wrap;\n",
              "      gap: 12px;\n",
              "    }\n",
              "\n",
              "    .colab-df-convert {\n",
              "      background-color: #E8F0FE;\n",
              "      border: none;\n",
              "      border-radius: 50%;\n",
              "      cursor: pointer;\n",
              "      display: none;\n",
              "      fill: #1967D2;\n",
              "      height: 32px;\n",
              "      padding: 0 0 0 0;\n",
              "      width: 32px;\n",
              "    }\n",
              "\n",
              "    .colab-df-convert:hover {\n",
              "      background-color: #E2EBFA;\n",
              "      box-shadow: 0px 1px 2px rgba(60, 64, 67, 0.3), 0px 1px 3px 1px rgba(60, 64, 67, 0.15);\n",
              "      fill: #174EA6;\n",
              "    }\n",
              "\n",
              "    [theme=dark] .colab-df-convert {\n",
              "      background-color: #3B4455;\n",
              "      fill: #D2E3FC;\n",
              "    }\n",
              "\n",
              "    [theme=dark] .colab-df-convert:hover {\n",
              "      background-color: #434B5C;\n",
              "      box-shadow: 0px 1px 3px 1px rgba(0, 0, 0, 0.15);\n",
              "      filter: drop-shadow(0px 1px 2px rgba(0, 0, 0, 0.3));\n",
              "      fill: #FFFFFF;\n",
              "    }\n",
              "  </style>\n",
              "\n",
              "      <script>\n",
              "        const buttonEl =\n",
              "          document.querySelector('#df-4586ca23-90f0-4497-b59b-202f701adf59 button.colab-df-convert');\n",
              "        buttonEl.style.display =\n",
              "          google.colab.kernel.accessAllowed ? 'block' : 'none';\n",
              "\n",
              "        async function convertToInteractive(key) {\n",
              "          const element = document.querySelector('#df-4586ca23-90f0-4497-b59b-202f701adf59');\n",
              "          const dataTable =\n",
              "            await google.colab.kernel.invokeFunction('convertToInteractive',\n",
              "                                                     [key], {});\n",
              "          if (!dataTable) return;\n",
              "\n",
              "          const docLinkHtml = 'Like what you see? Visit the ' +\n",
              "            '<a target=\"_blank\" href=https://colab.research.google.com/notebooks/data_table.ipynb>data table notebook</a>'\n",
              "            + ' to learn more about interactive tables.';\n",
              "          element.innerHTML = '';\n",
              "          dataTable['output_type'] = 'display_data';\n",
              "          await google.colab.output.renderOutput(dataTable, element);\n",
              "          const docLink = document.createElement('div');\n",
              "          docLink.innerHTML = docLinkHtml;\n",
              "          element.appendChild(docLink);\n",
              "        }\n",
              "      </script>\n",
              "    </div>\n",
              "  </div>\n",
              "  "
            ]
          },
          "metadata": {},
          "execution_count": 48
        }
      ]
    },
    {
      "cell_type": "code",
      "source": [
        "scores = cross_val_score(linpoly_reg_model, X_poly, y_train, cv=5)\n",
        "print(np.sqrt(scores))"
      ],
      "metadata": {
        "colab": {
          "base_uri": "https://localhost:8080/"
        },
        "id": "0ygE8_cdVsbl",
        "outputId": "11158da6-b08d-4608-a10d-9a41b8104eba"
      },
      "execution_count": 49,
      "outputs": [
        {
          "output_type": "stream",
          "name": "stdout",
          "text": [
            "[0.85480512 0.89371136 0.77032348 0.91260188 0.90620453]\n"
          ]
        }
      ]
    },
    {
      "cell_type": "code",
      "source": [
        "polys = r2_score(y_test, linpoly_reg_model.predict(X_test_scaled_poly))*100\n",
        "print(polys,'%')"
      ],
      "metadata": {
        "colab": {
          "base_uri": "https://localhost:8080/"
        },
        "id": "CridETb-Wd3Q",
        "outputId": "64229f1d-6b71-4d6c-a3d1-59e745476273"
      },
      "execution_count": 50,
      "outputs": [
        {
          "output_type": "stream",
          "name": "stdout",
          "text": [
            "74.8309492585794 %\n"
          ]
        }
      ]
    },
    {
      "cell_type": "markdown",
      "source": [
        "#### **Bayesian Ridge Polynomial Regression**\n",
        "\n",
        "**Bayesian Ridge Polynomial Regression** is a **modification** in linear regression analysis by adding **Bayesian** and **Ridge** models to make the prediction and analysis results more stable."
      ],
      "metadata": {
        "id": "EKhDb7z_f6zW"
      }
    },
    {
      "cell_type": "code",
      "source": [
        "# Transform X_train\n",
        "bayesian_poly = PolynomialFeatures(degree = 4)\n",
        "X_baye = bayesian_poly.fit_transform(X_train_scaled)\n",
        "X_test_scaled_baye = bayesian_poly.fit_transform(X_test_scaled)\n",
        "\n",
        "# Define a Bayesian Ridge Polynomial\n",
        "tol = [1e-6, 1e-5, 1e-4, 1e-3, 1e-2]\n",
        "alpha_1 = [1e-7, 1e-6, 1e-5, 1e-4, 1e-3]\n",
        "alpha_2 = [1e-7, 1e-6, 1e-5, 1e-4, 1e-3]\n",
        "lambda_1 = [1e-7, 1e-6, 1e-5, 1e-4, 1e-3]\n",
        "lambda_2 = [1e-7, 1e-6, 1e-5, 1e-4, 1e-3]\n",
        "normalize = [True, False]\n",
        "\n",
        "bayesian_grid = {'tol': tol, 'alpha_1': alpha_1, 'alpha_2' : alpha_2, 'lambda_1': lambda_1, 'lambda_2' : lambda_2, \n",
        "                 'normalize' : normalize}\n",
        "\n",
        "bayesian = BayesianRidge(fit_intercept=False)\n",
        "bayesian_search = RandomizedSearchCV(bayesian, bayesian_grid, scoring='neg_mean_squared_error', cv=3, return_train_score=True, n_jobs=-1, n_iter=40, verbose=1)\n",
        "bayesian_search.fit(X_baye, y_train)"
      ],
      "metadata": {
        "colab": {
          "base_uri": "https://localhost:8080/"
        },
        "id": "4OYa5B8dWnAv",
        "outputId": "110eca00-9c32-498b-d1a5-dcb7cc2f83ff"
      },
      "execution_count": 51,
      "outputs": [
        {
          "output_type": "stream",
          "name": "stdout",
          "text": [
            "Fitting 3 folds for each of 40 candidates, totalling 120 fits\n"
          ]
        },
        {
          "output_type": "execute_result",
          "data": {
            "text/plain": [
              "RandomizedSearchCV(cv=3, estimator=BayesianRidge(fit_intercept=False),\n",
              "                   n_iter=40, n_jobs=-1,\n",
              "                   param_distributions={'alpha_1': [1e-07, 1e-06, 1e-05, 0.0001,\n",
              "                                                    0.001],\n",
              "                                        'alpha_2': [1e-07, 1e-06, 1e-05, 0.0001,\n",
              "                                                    0.001],\n",
              "                                        'lambda_1': [1e-07, 1e-06, 1e-05,\n",
              "                                                     0.0001, 0.001],\n",
              "                                        'lambda_2': [1e-07, 1e-06, 1e-05,\n",
              "                                                     0.0001, 0.001],\n",
              "                                        'normalize': [True, False],\n",
              "                                        'tol': [1e-06, 1e-05, 0.0001, 0.001,\n",
              "                                                0.01]},\n",
              "                   return_train_score=True, scoring='neg_mean_squared_error',\n",
              "                   verbose=1)"
            ]
          },
          "metadata": {},
          "execution_count": 51
        }
      ]
    },
    {
      "cell_type": "code",
      "source": [
        "bayesian_search.best_params_"
      ],
      "metadata": {
        "colab": {
          "base_uri": "https://localhost:8080/"
        },
        "id": "IFBWASQ9jlcE",
        "outputId": "6c75926c-3fa8-4617-e1ef-d8c29d4eef97"
      },
      "execution_count": 52,
      "outputs": [
        {
          "output_type": "execute_result",
          "data": {
            "text/plain": [
              "{'alpha_1': 1e-07,\n",
              " 'alpha_2': 0.0001,\n",
              " 'lambda_1': 0.001,\n",
              " 'lambda_2': 1e-07,\n",
              " 'normalize': True,\n",
              " 'tol': 0.001}"
            ]
          },
          "metadata": {},
          "execution_count": 52
        }
      ]
    },
    {
      "cell_type": "code",
      "source": [
        "baye_confirmed = bayesian_search.best_estimator_\n",
        "y_pred = baye_confirmed.predict(X_test_scaled_baye)\n",
        "y_pred = pd.DataFrame(y_pred)\n",
        "MAE_baye_reg= metrics.mean_absolute_error(y_test, y_pred)\n",
        "MSE_baye_reg = metrics.mean_squared_error(y_test, y_pred)\n",
        "RMSE_baye_reg =np.sqrt(MSE_baye_reg)\n",
        "pd.DataFrame([MAE_poly_reg, MSE_poly_reg, RMSE_poly_reg], index=['MAE_poly_reg', 'MSE_poly_reg', 'RMSE_poly_reg'], columns=['Metrics'])"
      ],
      "metadata": {
        "colab": {
          "base_uri": "https://localhost:8080/",
          "height": 143
        },
        "id": "7U5Wv4HTj9n7",
        "outputId": "9b534b4d-ef61-4025-ea0a-bc204eeddfe9"
      },
      "execution_count": 53,
      "outputs": [
        {
          "output_type": "execute_result",
          "data": {
            "text/plain": [
              "                    Metrics\n",
              "MAE_poly_reg   3.653481e+03\n",
              "MSE_poly_reg   3.865497e+07\n",
              "RMSE_poly_reg  6.217312e+03"
            ],
            "text/html": [
              "\n",
              "  <div id=\"df-136ecd7a-9470-4144-b3db-fddf0158e9b8\">\n",
              "    <div class=\"colab-df-container\">\n",
              "      <div>\n",
              "<style scoped>\n",
              "    .dataframe tbody tr th:only-of-type {\n",
              "        vertical-align: middle;\n",
              "    }\n",
              "\n",
              "    .dataframe tbody tr th {\n",
              "        vertical-align: top;\n",
              "    }\n",
              "\n",
              "    .dataframe thead th {\n",
              "        text-align: right;\n",
              "    }\n",
              "</style>\n",
              "<table border=\"1\" class=\"dataframe\">\n",
              "  <thead>\n",
              "    <tr style=\"text-align: right;\">\n",
              "      <th></th>\n",
              "      <th>Metrics</th>\n",
              "    </tr>\n",
              "  </thead>\n",
              "  <tbody>\n",
              "    <tr>\n",
              "      <th>MAE_poly_reg</th>\n",
              "      <td>3.653481e+03</td>\n",
              "    </tr>\n",
              "    <tr>\n",
              "      <th>MSE_poly_reg</th>\n",
              "      <td>3.865497e+07</td>\n",
              "    </tr>\n",
              "    <tr>\n",
              "      <th>RMSE_poly_reg</th>\n",
              "      <td>6.217312e+03</td>\n",
              "    </tr>\n",
              "  </tbody>\n",
              "</table>\n",
              "</div>\n",
              "      <button class=\"colab-df-convert\" onclick=\"convertToInteractive('df-136ecd7a-9470-4144-b3db-fddf0158e9b8')\"\n",
              "              title=\"Convert this dataframe to an interactive table.\"\n",
              "              style=\"display:none;\">\n",
              "        \n",
              "  <svg xmlns=\"http://www.w3.org/2000/svg\" height=\"24px\"viewBox=\"0 0 24 24\"\n",
              "       width=\"24px\">\n",
              "    <path d=\"M0 0h24v24H0V0z\" fill=\"none\"/>\n",
              "    <path d=\"M18.56 5.44l.94 2.06.94-2.06 2.06-.94-2.06-.94-.94-2.06-.94 2.06-2.06.94zm-11 1L8.5 8.5l.94-2.06 2.06-.94-2.06-.94L8.5 2.5l-.94 2.06-2.06.94zm10 10l.94 2.06.94-2.06 2.06-.94-2.06-.94-.94-2.06-.94 2.06-2.06.94z\"/><path d=\"M17.41 7.96l-1.37-1.37c-.4-.4-.92-.59-1.43-.59-.52 0-1.04.2-1.43.59L10.3 9.45l-7.72 7.72c-.78.78-.78 2.05 0 2.83L4 21.41c.39.39.9.59 1.41.59.51 0 1.02-.2 1.41-.59l7.78-7.78 2.81-2.81c.8-.78.8-2.07 0-2.86zM5.41 20L4 18.59l7.72-7.72 1.47 1.35L5.41 20z\"/>\n",
              "  </svg>\n",
              "      </button>\n",
              "      \n",
              "  <style>\n",
              "    .colab-df-container {\n",
              "      display:flex;\n",
              "      flex-wrap:wrap;\n",
              "      gap: 12px;\n",
              "    }\n",
              "\n",
              "    .colab-df-convert {\n",
              "      background-color: #E8F0FE;\n",
              "      border: none;\n",
              "      border-radius: 50%;\n",
              "      cursor: pointer;\n",
              "      display: none;\n",
              "      fill: #1967D2;\n",
              "      height: 32px;\n",
              "      padding: 0 0 0 0;\n",
              "      width: 32px;\n",
              "    }\n",
              "\n",
              "    .colab-df-convert:hover {\n",
              "      background-color: #E2EBFA;\n",
              "      box-shadow: 0px 1px 2px rgba(60, 64, 67, 0.3), 0px 1px 3px 1px rgba(60, 64, 67, 0.15);\n",
              "      fill: #174EA6;\n",
              "    }\n",
              "\n",
              "    [theme=dark] .colab-df-convert {\n",
              "      background-color: #3B4455;\n",
              "      fill: #D2E3FC;\n",
              "    }\n",
              "\n",
              "    [theme=dark] .colab-df-convert:hover {\n",
              "      background-color: #434B5C;\n",
              "      box-shadow: 0px 1px 3px 1px rgba(0, 0, 0, 0.15);\n",
              "      filter: drop-shadow(0px 1px 2px rgba(0, 0, 0, 0.3));\n",
              "      fill: #FFFFFF;\n",
              "    }\n",
              "  </style>\n",
              "\n",
              "      <script>\n",
              "        const buttonEl =\n",
              "          document.querySelector('#df-136ecd7a-9470-4144-b3db-fddf0158e9b8 button.colab-df-convert');\n",
              "        buttonEl.style.display =\n",
              "          google.colab.kernel.accessAllowed ? 'block' : 'none';\n",
              "\n",
              "        async function convertToInteractive(key) {\n",
              "          const element = document.querySelector('#df-136ecd7a-9470-4144-b3db-fddf0158e9b8');\n",
              "          const dataTable =\n",
              "            await google.colab.kernel.invokeFunction('convertToInteractive',\n",
              "                                                     [key], {});\n",
              "          if (!dataTable) return;\n",
              "\n",
              "          const docLinkHtml = 'Like what you see? Visit the ' +\n",
              "            '<a target=\"_blank\" href=https://colab.research.google.com/notebooks/data_table.ipynb>data table notebook</a>'\n",
              "            + ' to learn more about interactive tables.';\n",
              "          element.innerHTML = '';\n",
              "          dataTable['output_type'] = 'display_data';\n",
              "          await google.colab.output.renderOutput(dataTable, element);\n",
              "          const docLink = document.createElement('div');\n",
              "          docLink.innerHTML = docLinkHtml;\n",
              "          element.appendChild(docLink);\n",
              "        }\n",
              "      </script>\n",
              "    </div>\n",
              "  </div>\n",
              "  "
            ]
          },
          "metadata": {},
          "execution_count": 53
        }
      ]
    },
    {
      "cell_type": "code",
      "source": [
        "scores = cross_val_score(baye_confirmed, X_baye, y_train, cv=5)\n",
        "print(np.sqrt(scores))"
      ],
      "metadata": {
        "colab": {
          "base_uri": "https://localhost:8080/"
        },
        "id": "q1VZW97ik682",
        "outputId": "572b574a-6248-40ff-920c-c462c90d3cc7"
      },
      "execution_count": 54,
      "outputs": [
        {
          "output_type": "stream",
          "name": "stdout",
          "text": [
            "[0.88647998 0.91442092 0.83084736 0.92650854 0.92653445]\n"
          ]
        }
      ]
    },
    {
      "cell_type": "code",
      "source": [
        "bayes = r2_score(y_test, baye_confirmed.predict(X_test_scaled_baye))*100\n",
        "print(bayes,'%')"
      ],
      "metadata": {
        "colab": {
          "base_uri": "https://localhost:8080/"
        },
        "id": "s5QSKIN3lJ1U",
        "outputId": "25959db4-3e5d-441e-c3e7-b485dbcba085"
      },
      "execution_count": 55,
      "outputs": [
        {
          "output_type": "stream",
          "name": "stdout",
          "text": [
            "78.85516837632288 %\n"
          ]
        }
      ]
    },
    {
      "cell_type": "markdown",
      "source": [
        "### **Comparison of Model Score**\n",
        "\n",
        "Comparing each score of the Models using basic visualization will make it easier for an Analyst to convey to company stakeholders."
      ],
      "metadata": {
        "id": "gfeHYDm42gx3"
      }
    },
    {
      "cell_type": "code",
      "source": [
        "plt.figure(figsize= (8,7))\n",
        "ac = [lin, grads, xgbs, trees, ranfors, polys, bayes]\n",
        "name = ['Linear Regression','Gradient Boosting','XG-Boost','Decision Tree','Random Forest','Polynomial Regression','Bayesian Ridge Polynomial Linear Regression']\n",
        "sns.barplot(x = ac,y = name,palette='bright')\n",
        "plt.title(\"Plotting the Model Accuracies Score\", fontsize=16, fontweight=\"bold\")"
      ],
      "metadata": {
        "colab": {
          "base_uri": "https://localhost:8080/",
          "height": 463
        },
        "id": "8RG8Wa8ElTGJ",
        "outputId": "dd991425-3e7c-4aa1-c5fa-5ebc09dfddd2"
      },
      "execution_count": 84,
      "outputs": [
        {
          "output_type": "execute_result",
          "data": {
            "text/plain": [
              "Text(0.5, 1.0, 'Plotting the Model Accuracies Score')"
            ]
          },
          "metadata": {},
          "execution_count": 84
        },
        {
          "output_type": "display_data",
          "data": {
            "text/plain": [
              "<Figure size 576x504 with 1 Axes>"
            ],
            "image/png": "[encoded data removed]"
          },
          "metadata": {
            "needs_background": "light"
          }
        }
      ]
    },
    {
      "cell_type": "markdown",
      "source": [
        "**Gradient Boosting** and **XGBoost** are the models with the highest score. The values for the two models are **85.54%** and **85.55%**."
      ],
      "metadata": {
        "id": "uMbvaw7T6bD8"
      }
    },
    {
      "cell_type": "markdown",
      "source": [
        "## **Features Importance**\n",
        "\n",
        "The feature importances are MinMax scaled, put into a DataFrame, and finally plotted ordered by the mean feature importance."
      ],
      "metadata": {
        "id": "LEmClLaQkblh"
      }
    },
    {
      "cell_type": "markdown",
      "source": [
        "### **Gradient Boost Features Importance**"
      ],
      "metadata": {
        "id": "PYo_Vh2_whBV"
      }
    },
    {
      "cell_type": "code",
      "source": [
        "print('Feature importance ranking\\n\\n')\n",
        "importances = Gradient_model.feature_importances_\n",
        "std = np.std([Gradient_model.feature_importances_ for tree in Gradient_model],axis=0)\n",
        "indices = np.argsort(importances)[::-1]\n",
        "variables = ['age', 'sex', 'bmi', 'children','smoker', 'region']\n",
        "importance_list = []\n",
        "for f in range(X_test_scaled.shape[1]):\n",
        "    variable = variables[indices[f]]\n",
        "    importance_list.append(variable)\n",
        "    print(\"%d.%s(%f)\" % (f + 1, variable, importances[indices[f]]))\n",
        "\n",
        "# Plot the feature importances of the forest\n",
        "plt.figure()\n",
        "plt.title(\"Feature importances\")\n",
        "plt.bar(importance_list, importances[indices],\n",
        "       color=\"red\", yerr=std[indices], align=\"center\")"
      ],
      "metadata": {
        "colab": {
          "base_uri": "https://localhost:8080/",
          "height": 456
        },
        "id": "lcHP_cgCkpLU",
        "outputId": "854ac9f5-eb3f-4329-cdd1-f2a2b651e080"
      },
      "execution_count": 76,
      "outputs": [
        {
          "output_type": "stream",
          "name": "stdout",
          "text": [
            "Feature importance ranking\n",
            "\n",
            "\n",
            "1.smoker(0.693373)\n",
            "2.bmi(0.171226)\n",
            "3.age(0.122252)\n",
            "4.children(0.009006)\n",
            "5.region(0.002491)\n",
            "6.sex(0.001652)\n"
          ]
        },
        {
          "output_type": "execute_result",
          "data": {
            "text/plain": [
              "<BarContainer object of 6 artists>"
            ]
          },
          "metadata": {},
          "execution_count": 76
        },
        {
          "output_type": "display_data",
          "data": {
            "text/plain": [
              "<Figure size 432x288 with 1 Axes>"
            ],
            "image/png": "[encoded data removed]"
          },
          "metadata": {
            "needs_background": "light"
          }
        }
      ]
    },
    {
      "cell_type": "markdown",
      "source": [
        "The calculation of the **Features Importance** analysis on **Gradient Boost** shows that **smokers** have a **big influence** on the costs incurred for **health insurance** services."
      ],
      "metadata": {
        "id": "g2V024Q6vXfH"
      }
    },
    {
      "cell_type": "markdown",
      "source": [
        "### **XGBoost Features Importance**"
      ],
      "metadata": {
        "id": "0ALjjIIjwnVr"
      }
    },
    {
      "cell_type": "code",
      "source": [
        "print('Feature importance ranking\\n\\n')\n",
        "importances_xgb = XGB_model.feature_importances_\n",
        "indices = np.argsort(importances_xgb)[::-1]\n",
        "variables = ['age', 'sex', 'bmi', 'children','smoker', 'region']\n",
        "importance_xgb_list = []\n",
        "for f in range(X_test_scaled.shape[1]):\n",
        "    variable = variables[indices[f]]\n",
        "    importance_xgb_list.append(variable)\n",
        "    print(\"%d.%s(%f)\" % (f + 1, variable, importances_xgb[indices[f]]))\n",
        "\n",
        "# Plot the feature importances of the forest\n",
        "plt.figure()\n",
        "plt.title(\"Feature importances\")\n",
        "plt.bar(importance_xgb_list, importances_xgb[indices],\n",
        "       color=\"blue\", yerr=std[indices], align=\"center\")"
      ],
      "metadata": {
        "colab": {
          "base_uri": "https://localhost:8080/",
          "height": 456
        },
        "id": "YmwhOGg0wsDI",
        "outputId": "b43bebe1-d613-4b7a-8a0c-0df3cb99d3e8"
      },
      "execution_count": 83,
      "outputs": [
        {
          "output_type": "stream",
          "name": "stdout",
          "text": [
            "Feature importance ranking\n",
            "\n",
            "\n",
            "1.smoker(0.897247)\n",
            "2.bmi(0.046975)\n",
            "3.age(0.038352)\n",
            "4.children(0.009071)\n",
            "5.region(0.005224)\n",
            "6.sex(0.003131)\n"
          ]
        },
        {
          "output_type": "execute_result",
          "data": {
            "text/plain": [
              "<BarContainer object of 6 artists>"
            ]
          },
          "metadata": {},
          "execution_count": 83
        },
        {
          "output_type": "display_data",
          "data": {
            "text/plain": [
              "<Figure size 432x288 with 1 Axes>"
            ],
            "image/png": "[encoded data removed]"
          },
          "metadata": {
            "needs_background": "light"
          }
        }
      ]
    },
    {
      "cell_type": "markdown",
      "source": [
        "The calculation of the **Features Importance** analysis on **XGBoost** shows that smokers have a bigger influence result than Gradient Boost's result on the costs incurred for health insurance services.\n",
        "\n",
        "This shows how much **Smoking** has **Influence** on Health and the **Incidence of other Diseases**. The risk of smoking which can cause other diseases is what makes the health burden even greater.\n",
        "\n",
        "[Linda M. O'Keeffe et,al.](https://bmjopen.bmj.com/content/bmjopen/8/10/e021611.full.pdf) have published the results of their study under the title \"Smoking as a Risk Factor for Lung Cancer in Women and Men: A Systematic Review and Meta-Analysis\" in the BMJ Open. Linda explains, smoking produces the same risk of lung cancer in women compared to men. However, these data may underestimate the true risk of lung cancer among women, as the smoking epidemic has not yet reached full maturity in women. Continued efforts are needed to quantify the sex-specific association between smoking and lung cancer. In another study, [Jon A. Krosnick](https://journals.plos.org/plosone/article/file?type=printable&id=10.1371/journal.pone.0182063) pointed out, almost all Americans know that smoking has such great health risks, but many Americans still have the habit of smoking. This is because they did not find a real risk of smoking. Jon also stated that the risk of developing dangerous diseases such as cancer in smokers is very large with a risk percentage of 20%-50%. \n",
        "\n",
        "Those two journals above show the alignment of the results of the analysis on this dataset with previous research. With this, it was found that smoking can increase the risk of developing lung cancer and also other cancers that are aggravating the previous risk."
      ],
      "metadata": {
        "id": "awXu3tELyeGZ"
      }
    },
    {
      "cell_type": "markdown",
      "source": [
        "# **Conclusion**\n",
        "\n",
        "Based on the dataset regarding the health costs incurred per person, it shows a tendency to increase costs that occur if a person has a smoking habit.\n",
        "\n",
        "![](https://images.newscientist.com/wp-content/uploads/2020/05/19170055/pa-53622372_web.jpg?crop=16:9,smart&width=1200&height=675&upscale=true)\n",
        "\n",
        "This is in line with the statement of the Minister of Finance, Sri Mulyani, who said that active smokers are the main burden in the BPJS Kesehatan budget. Even though in 2021, BPJS Kesehatan's cash budget will not experience a deficit, according to Ali Ghufron Mukti as President Director of BPJS Kesehatan, said, \"This is the first time since 2016 or 2015, BPJS Kesehatan does not have a deficit. Usually we have a deficit and it is always crowded in the DPR. In December 2020, there was a positive cash flow, but if the obligations were carried out, such as debts, and so on, it would become a deficit. For 2021, we are grateful that we have started to be positive, even though we are not very healthy.\" [News: Meski Tak Lagi Defisit, Dirut BPJS Kesehatan Sebut Arus Kas Belum Sepenuhnya Aman](https://finansial.bisnis.com/read/20220119/215/1490818/meski-tak-lagi-defisit-dirut-bpjs-kesehatan-sebut-arus-kas-belum-sepenuhnya-aman#:~:text=Sampai%20dengan%20Desember%202021%2C%20posisi,yang%20defisit%20Rp5%2C69%20triliun.)\n",
        "\n",
        "![](https://images.bisnis-cdn.com/posts/2022/01/19/1490818/jat-bpjs-4.jpg)\n",
        "\n",
        "As a **company** that runs the **insurance business**, ABC, inc. is **advised to make adjustments in determining premiums** for new customers. The determination of the premium is reviewed objectively on the customer. From this suggestion, it is hoped that the expenditure and income received will have a healthy cash flow."
      ],
      "metadata": {
        "id": "odOl8b608Gnw"
      }
    }
  ]
}